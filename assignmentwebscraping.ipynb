{
 "cells": [
  {
   "cell_type": "markdown",
   "metadata": {},
   "source": [
    "# Write a python program to display all the header tags from ‘en.wikipedia.org/wiki/Main_Page’. "
   ]
  },
  {
   "cell_type": "code",
   "execution_count": null,
   "metadata": {},
   "outputs": [],
   "source": [
    "!pip install bs4\n",
    "!pip install requests\n",
    "!pip install lxml"
   ]
  },
  {
   "cell_type": "code",
   "execution_count": 2,
   "metadata": {},
   "outputs": [],
   "source": [
    "from bs4 import BeautifulSoup\n",
    "import requests\n",
    "import re"
   ]
  },
  {
   "cell_type": "code",
   "execution_count": 147,
   "metadata": {},
   "outputs": [
    {
     "name": "stdout",
     "output_type": "stream",
     "text": [
      "list of all header tags :\n",
      "\n",
      "<h1 class=\"firstHeading\" id=\"firstHeading\">Main Page</h1>\n",
      "\n",
      "<h2 class=\"mp-h2\" id=\"mp-tfa-h2\"><span id=\"From_today.27s_featured_article\"></span><span class=\"mw-headline\" id=\"From_today's_featured_article\">From today's featured article</span></h2>\n",
      "\n",
      "<h2 class=\"mp-h2\" id=\"mp-dyk-h2\"><span class=\"mw-headline\" id=\"Did_you_know_...\">Did you know ...</span></h2>\n",
      "\n",
      "<h2 class=\"mp-h2\" id=\"mp-itn-h2\"><span class=\"mw-headline\" id=\"In_the_news\">In the news</span></h2>\n",
      "\n",
      "<h2 class=\"mp-h2\" id=\"mp-otd-h2\"><span class=\"mw-headline\" id=\"On_this_day\">On this day</span></h2>\n",
      "\n",
      "<h2 class=\"mp-h2\" id=\"mp-tfp-h2\"><span id=\"Today.27s_featured_picture\"></span><span class=\"mw-headline\" id=\"Today's_featured_picture\">Today's featured picture</span></h2>\n",
      "\n",
      "<h2 class=\"mp-h2\" id=\"mp-other\"><span class=\"mw-headline\" id=\"Other_areas_of_Wikipedia\">Other areas of Wikipedia</span></h2>\n",
      "\n",
      "<h2 class=\"mp-h2\" id=\"mp-sister\"><span id=\"Wikipedia.27s_sister_projects\"></span><span class=\"mw-headline\" id=\"Wikipedia's_sister_projects\">Wikipedia's sister projects</span></h2>\n",
      "\n",
      "<h2 class=\"mp-h2\" id=\"mp-lang\"><span class=\"mw-headline\" id=\"Wikipedia_languages\">Wikipedia languages</span></h2>\n",
      "\n",
      "<h2>Navigation menu</h2>\n",
      "\n",
      "<h3 class=\"vector-menu-heading\" id=\"p-personal-label\">\n",
      "<span>Personal tools</span>\n",
      "</h3>\n",
      "\n",
      "<h3 class=\"vector-menu-heading\" id=\"p-namespaces-label\">\n",
      "<span>Namespaces</span>\n",
      "</h3>\n",
      "\n",
      "<h3 class=\"vector-menu-heading\" id=\"p-variants-label\">\n",
      "<span>Variants</span>\n",
      "</h3>\n",
      "\n",
      "<h3 class=\"vector-menu-heading\" id=\"p-views-label\">\n",
      "<span>Views</span>\n",
      "</h3>\n",
      "\n",
      "<h3 class=\"vector-menu-heading\" id=\"p-cactions-label\">\n",
      "<span>More</span>\n",
      "</h3>\n",
      "\n",
      "<h3>\n",
      "<label for=\"searchInput\">Search</label>\n",
      "</h3>\n",
      "\n",
      "<h3 class=\"vector-menu-heading\" id=\"p-navigation-label\">\n",
      "<span>Navigation</span>\n",
      "</h3>\n",
      "\n",
      "<h3 class=\"vector-menu-heading\" id=\"p-interaction-label\">\n",
      "<span>Contribute</span>\n",
      "</h3>\n",
      "\n",
      "<h3 class=\"vector-menu-heading\" id=\"p-tb-label\">\n",
      "<span>Tools</span>\n",
      "</h3>\n",
      "\n",
      "<h3 class=\"vector-menu-heading\" id=\"p-coll-print_export-label\">\n",
      "<span>Print/export</span>\n",
      "</h3>\n",
      "\n",
      "<h3 class=\"vector-menu-heading\" id=\"p-wikibase-otherprojects-label\">\n",
      "<span>In other projects</span>\n",
      "</h3>\n",
      "\n",
      "<h3 class=\"vector-menu-heading\" id=\"p-lang-label\">\n",
      "<span>Languages</span>\n",
      "</h3>\n"
     ]
    }
   ],
   "source": [
    "\n",
    "\n",
    "url100 = \"https://en.wikipedia.org/wiki/Main_Page\"\n",
    "r = requests.get(url100)\n",
    "data = r.content\n",
    "#print(data)\n",
    "soup = BeautifulSoup(data,'html.parser')\n",
    "#print(soup.prettify)\n",
    "header = soup.find_all(re.compile('^h[1-6]$'))\n",
    "print('list of all header tags :',*header,sep='\\n\\n')\n",
    "\n"
   ]
  },
  {
   "cell_type": "markdown",
   "metadata": {},
   "source": [
    "#  Write a python program to display IMDB’s Top rated 100 movies’ data (i.e. Name, IMDB rating, Year of release) and make data frame. "
   ]
  },
  {
   "cell_type": "code",
   "execution_count": 300,
   "metadata": {},
   "outputs": [],
   "source": [
    "url99 = 'http://www.imdb.com/chart/top'\n",
    "r = requests.get(url99)\n",
    "data = r.content\n",
    "soup = BeautifulSoup(data,'html.parser')\n",
    "#print(soup.prettify)"
   ]
  },
  {
   "cell_type": "code",
   "execution_count": 208,
   "metadata": {},
   "outputs": [
    {
     "name": "stdout",
     "output_type": "stream",
     "text": [
      "1 - The Shawshank Redemption (1994) - 9.219951643065766\n",
      "2 - The Godfather (1972) - 9.147448098776698\n",
      "3 - The Godfather: Part II (1974) - 8.980034371546097\n",
      "4 - The Dark Knight (2008) - 8.970526737466214\n",
      "5 - 12 Angry Men (1957) - 8.935739496554005\n",
      "6 - Schindler's List (1993) - 8.909858585155678\n",
      "7 - The Lord of the Rings: The Return of the King (2003) - 8.885835265039535\n",
      "8 - Pulp Fiction (1994) - 8.837914027332266\n",
      "9 - Il buono, il brutto, il cattivo (1966) - 8.787658464131404\n",
      "1 -  The Lord of the Rings: The Fellowship of the Ring (2001) - 8.77685209589083\n",
      "11 - Fight Club (1999) - 8.75383298729376\n",
      "12 - Forrest Gump (1994) - 8.743305013956544\n",
      "13 - Inception (2010) - 8.714444376549045\n",
      "14 - The Lord of the Rings: The Two Towers (2002) - 8.699796035545932\n",
      "15 - Star Wars: Episode V - The Empire Strikes Back (1980) - 8.69585983440794\n",
      "16 - The Matrix (1999) - 8.64404442199487\n",
      "17 - Goodfellas (1990) - 8.643050689680406\n",
      "18 - One Flew Over the Cuckoo's Nest (1975) - 8.636110574909846\n",
      "19 - Shichinin no samurai (1954) - 8.610855213738931\n",
      "20 - Se7en (1995) - 8.58727783258843\n",
      "21 - The Silence of the Lambs (1991) - 8.57668520678185\n",
      "22 - Cidade de Deus (2002) - 8.576599272525499\n",
      "23 - La vita è bella (1997) - 8.574789800739548\n",
      "24 - It's a Wonderful Life (1946) - 8.574713225929422\n",
      "25 - Star Wars (1977) - 8.553839738475025\n",
      "26 - Saving Private Ryan (1998) - 8.548471990132743\n",
      "27 - Sen to Chihiro no kamikakushi (2001) - 8.537460266803544\n",
      "28 - Interstellar (2014) - 8.53443717208068\n",
      "29 - The Green Mile (1999) - 8.533752601702359\n",
      "30 - Gisaengchung (2019) - 8.52705334239198\n",
      "31 - Léon (1994) - 8.501581242934183\n",
      "32 - Seppuku (1962) - 8.496296346153386\n",
      "33 - The Usual Suspects (1995) - 8.489585248894546\n",
      "34 - The Pianist (2002) - 8.48739799570642\n",
      "35 - Back to the Future (1985) - 8.484019566946124\n",
      "36 - Terminator 2: Judgment Day (1991) - 8.48339135501058\n",
      "37 - Psycho (1960) - 8.481921331377551\n",
      "38 - Modern Times (1936) - 8.481914889373586\n",
      "39 - The Lion King (1994) - 8.480485864186125\n",
      "40 - American History X (1998) - 8.474741124216221\n",
      "41 - City Lights (1931) - 8.473026832818684\n",
      "42 - Gladiator (2000) - 8.467240814778236\n",
      "43 - Whiplash (2014) - 8.466177439427746\n",
      "44 - The Departed (2006) - 8.465881294183308\n",
      "45 - Hotaru no haka (1988) - 8.46585428587198\n",
      "46 - The Intouchables (2011) - 8.46091454112366\n",
      "47 - The Prestige (2006) - 8.452025025572066\n",
      "48 - Casablanca (1942) - 8.449577834697326\n",
      "49 - Once Upon a Time in the West (1968) - 8.44884026719928\n",
      "50 - Rear Window (1954) - 8.438403472567845\n",
      "51 - Nuovo Cinema Paradiso (1988) - 8.434843904669155\n",
      "52 - Alien (1979) - 8.42329043932502\n",
      "53 - Apocalypse Now (1979) - 8.417996810863396\n",
      "54 - Memento (2000) - 8.411428326526663\n",
      "55 - Raiders of the Lost Ark (1981) - 8.409487166853744\n",
      "56 - The Great Dictator (1940) - 8.406307219316986\n",
      "57 - The Lives of Others (2006) - 8.391799517401031\n",
      "58 - Django Unchained (2012) - 8.388345055413602\n",
      "59 - Paths of Glory (1957) - 8.38279685461637\n",
      "60 - Sunset Blvd (1950) - 8.376282336206248\n",
      "61 - WALL·E (2008) - 8.371240201824868\n",
      "62 - The Shining (1980) - 8.365668456935351\n",
      "63 - Avengers: Infinity War (2018) - 8.359935527226375\n",
      "64 - Witness for the Prosecution (1957) - 8.359927029321968\n",
      "65 - Joker (2019) - 8.356885795514254\n",
      "66 - Dr Strangelove or: How I Learned to Stop Worrying and Love the Bomb (1964) - 8.354034688971703\n",
      "67 - Spider-Man: Into the Spider-Verse (2018) - 8.350318241591241\n",
      "68 - Oldeuboi (2003) - 8.344199109415843\n",
      "69 - Mononoke-hime (1997) - 8.34386100031229\n",
      "70 - Hamilton (2020) - 8.335652941703902\n",
      "71 - Kimi no na wa (2016) - 8.325088481858893\n",
      "72 - Once Upon a Time in America (1984) - 8.325082614052004\n",
      "73 - The Dark Knight Rises (2012) - 8.32274488349186\n",
      "74 - Aliens (1986) - 8.32181765086126\n",
      "75 - Coco (2017) - 8.319307313520165\n",
      "76 - Pather Panchali (1955) - 8.307981016209261\n",
      "77 - Das Boot (1981) - 8.307838146207754\n",
      "78 - Capharnaüm (2018) - 8.30625850636542\n",
      "79 - Avengers: Endgame (2019) - 8.305021490012683\n",
      "80 - Tengoku to jigoku (1963) - 8.304700846141936\n",
      "81 - American Beauty (1999) - 8.300635272472755\n",
      "82 - Toy Story (1995) - 8.295582561897909\n",
      "83 - Braveheart (1995) - 8.294515438576502\n",
      "84 - Amadeus (1984) - 8.293721946529656\n",
      "85 - 3 Idiots (2009) - 8.293492040772408\n",
      "86 - Inglourious Basterds (2009) - 8.285555030560456\n",
      "87 - Good Will Hunting (1997) - 8.278241101252537\n",
      "88 - Star Wars: Episode VI - Return of the Jedi (1983) - 8.276123344677663\n",
      "89 - 2001: A Space Odyssey (1968) - 8.274075634785902\n",
      "90 - Reservoir Dogs (1992) - 8.273655525995464\n",
      "91 - M - Eine Stadt sucht einen Mörder (1931) - 8.273345767541977\n",
      "92 - Taare Zameen Par (2007) - 8.271935958136327\n",
      "93 - Vertigo (1958) - 8.269550008470576\n",
      "94 - Citizen Kane (1941) - 8.269535470580317\n",
      "95 - Requiem for a Dream (2000) - 8.262100128700443\n",
      "96 - Jagten (2012) - 8.261733139857302\n",
      "97 - Idi i smotri (1985) - 8.259673141867719\n",
      "98 - Singin' in the Rain (1952) - 8.257975003011476\n",
      "99 - North by Northwest (1959) - 8.257955172828803\n",
      "10 -  Eternal Sunshine of the Spotless Mind (2004) - 8.256549787123976\n"
     ]
    }
   ],
   "source": [
    "movies = soup.select('td.titleColumn')\n",
    "ratings = [b.attrs.get('data-value') for b in soup.select('td.posterColumn span[name=ir]')]\n",
    "\n",
    "imdb = []\n",
    "\n",
    "# Store each item into dictionary (data), then put those into a list (imdb)\n",
    "for index in range(0, 100):\n",
    "    # Seperate movie into: 'place', 'title', 'year'\n",
    "    movie_string = movies[index].get_text()\n",
    "    movie = (' '.join(movie_string.split()).replace('.', ''))\n",
    "    movie_title = movie[len(str(index))+1:-7]\n",
    "    year = re.search('\\((.*?)\\)', movie_string).group(1)\n",
    "    place = movie[:len(str(index))-(len(movie))]\n",
    "    data = {\"movie_title\": movie_title,\n",
    "            \"year\": year,\n",
    "            \"place\": place,\n",
    "            \"rating\": ratings[index]}\n",
    "           \n",
    "    imdb.append(data)\n",
    "\n",
    "for item in imdb:\n",
    "    print(item['place'], '-', item['movie_title'], '('+item['year']+') -',item['rating'])\n",
    "                     \n",
    "                     \n",
    "     "
   ]
  },
  {
   "cell_type": "markdown",
   "metadata": {},
   "source": [
    "# Write a python program to display IMDB’s Top rated 100 Indian movies’ data (i.e. Name, IMDB rating, Year of release) and make data frame. "
   ]
  },
  {
   "cell_type": "code",
   "execution_count": 301,
   "metadata": {},
   "outputs": [],
   "source": [
    "url00 = 'https://www.imdb.com/india/top-rated-indian-movies'\n",
    "r = requests.get(url00)\n",
    "data = r.content\n",
    "soup = BeautifulSoup(data,'html.parser')\n",
    "#print(soup.prettify)"
   ]
  },
  {
   "cell_type": "code",
   "execution_count": 211,
   "metadata": {},
   "outputs": [
    {
     "name": "stdout",
     "output_type": "stream",
     "text": [
      "1 - Pather Panchali (1955) - 8.48971092577561\n",
      "2 - Nayakan (1987) - 8.487752982875492\n",
      "3 - Pariyerum Perumal (2018) - 8.479219484475472\n",
      "4 - Anbe Sivam (2003) - 8.476204784952818\n",
      "5 - Golmaal (1979) - 8.464391081100187\n",
      "6 - C/o Kancharapalem (2018) - 8.461427583328394\n",
      "7 - Apur Sansar (1959) - 8.459479512926345\n",
      "8 - Manichitrathazhu (1993) - 8.444682999765995\n",
      "9 - Kireedam (1989) - 8.444547895992917\n",
      "1 -  Natsamrat (2016) - 8.43809936248822\n",
      "11 - 96 (2018) - 8.422538677819874\n",
      "12 - Thevar Magan (1992) - 8.411082112608922\n",
      "13 - Black Friday (2004) - 8.409403543487214\n",
      "14 - Kumbalangi Nights (2019) - 8.396683463480452\n",
      "15 - Drishyam 2 (2021) - 8.389711758194604\n",
      "16 - Visaaranai (2015) - 8.352749619565898\n",
      "17 - 3 Idiots (2009) - 8.349538703535133\n",
      "18 - Taare Zameen Par (2007) - 8.331524151070221\n",
      "19 - Jersey (2019) - 8.325280544474651\n",
      "20 - Soorarai Pottru (2020) - 8.31894212590126\n",
      "21 - Ratsasan (2018) - 8.309794059583378\n",
      "22 - Thalapathi (1991) - 8.307298637585161\n",
      "23 - Dangal (2016) - 8.301039849618494\n",
      "24 - Asuran (2019) - 8.296361919180711\n",
      "25 - Kaithi (2019) - 8.292794943204374\n",
      "26 - Devasuram (1993) - 8.284492553186462\n",
      "27 - Aparajito (1956) - 8.281881530468981\n",
      "28 - Jaane Bhi Do Yaaro (1983) - 8.27168516387419\n",
      "29 - Peranbu (2018) - 8.263288271775576\n",
      "30 - Vada Chennai (2018) - 8.260194234323007\n",
      "31 - Pyaasa (1957) - 8.258068838938367\n",
      "32 - Guide (1965) - 8.255274304334618\n",
      "33 - Thani Oruvan (2015) - 8.25132119161317\n",
      "34 - Kannathil Muthamittal (2002) - 8.245591873175353\n",
      "35 - Chupke Chupke (1975) - 8.23673743593784\n",
      "36 - Iruvar (1997) - 8.231102322082654\n",
      "37 - Spadikam (1995) - 8.229455695755478\n",
      "38 - Agent Sai Srinivasa Athreya (2019) - 8.225609612827672\n",
      "39 - Super Deluxe (2019) - 8.224179771415404\n",
      "40 - Drishyam (2013) - 8.220045429675615\n",
      "41 - Vikram Vedha (2017) - 8.21596784665754\n",
      "42 - Aruvi (2016) - 8.215262578621505\n",
      "43 - Mahanati (2018) - 8.209829619291886\n",
      "44 - Tumbbad (2018) - 8.209126994381537\n",
      "45 - Khosla Ka Ghosla! (2006) - 8.205418755759483\n",
      "46 - Pudhu Pettai (2006) - 8.188319761013982\n",
      "47 - Premam (2015) - 8.185337086914991\n",
      "48 - Anand (1971) - 8.184323559245348\n",
      "49 - Anniyan (2005) - 8.174612231227817\n",
      "50 - Kaakkaa Muttai (2014) - 8.173300034571557\n",
      "51 - Bangalore Days (2014) - 8.169513795908353\n",
      "52 - Mudhalvan (1999) - 8.169393027704873\n",
      "53 - Andhadhun (2018) - 8.169316421084076\n",
      "54 - Dhuruvangal Pathinaaru (2016) - 8.167387203984303\n",
      "55 - Papanasam (2015) - 8.167058224753792\n",
      "56 - Satya (1998) - 8.166248244065576\n",
      "57 - Soodhu Kavvum (2013) - 8.159761901175926\n",
      "58 - Shahid (2012) - 8.158579232030894\n",
      "59 - Jigarthanda (2014) - 8.14659886576984\n",
      "60 - Pithamagan (2003) - 8.140402773465999\n",
      "61 - Gangs of Wasseypur (2012) - 8.135958057608317\n",
      "62 - Paan Singh Tomar (2012) - 8.131302791376058\n",
      "63 - Sairat (2016) - 8.130396925841362\n",
      "64 - Bhaag Milkha Bhaag (2013) - 8.12706986190686\n",
      "65 - Hera Pheri (2000) - 8.122758521752926\n",
      "66 - Talvar (2015) - 8.122416637596368\n",
      "67 - Swades: We, the People (2004) - 8.116828765356603\n",
      "68 - Sholay (1975) - 8.114471901726121\n",
      "69 - Black (2005) - 8.113974848725201\n",
      "70 - Ustad Hotel (2012) - 8.113929236562209\n",
      "71 - Chak De! India (2007) - 8.111916259177054\n",
      "72 - Jo Jeeta Wohi Sikandar (1992) - 8.1090358318367\n",
      "73 - Nil Battey Sannata (2015) - 8.10812944906767\n",
      "74 - Drishyam (2015) - 8.107049469833143\n",
      "75 - Mughal-E-Azam (1960) - 8.106252195485371\n",
      "76 - Maheshinte Prathikaaram (2016) - 8.104250405858767\n",
      "77 - Zindagi Na Milegi Dobara (2011) - 8.103940055430737\n",
      "78 - Charulata (1964) - 8.101569969005538\n",
      "79 - Article 15 (2019) - 8.101236822746701\n",
      "80 - Udaan (2010) - 8.099911661743667\n",
      "81 - A Wednesday (2008) - 8.097228706180212\n",
      "82 - Theeran adhigaaram ondru (2017) - 8.096911835972945\n",
      "83 - Queen (2013) - 8.094029951703666\n",
      "84 - Masaan (2015) - 8.093601252478704\n",
      "85 - Alai Payuthey (2000) - 8.089906822553793\n",
      "86 - Munna Bhai MBBS (2003) - 8.088949745988026\n",
      "87 - Sarfarosh (1999) - 8.088619034675078\n",
      "88 - Baasha (1995) - 8.084694519227462\n",
      "89 - Roja (1992) - 8.08462832929865\n",
      "90 - Dil Chahta Hai (2001) - 8.084549462064082\n",
      "91 - OMG: Oh My God! (2012) - 8.083178298631733\n",
      "92 - Rang De Basanti (2006) - 8.07998176873284\n",
      "93 - Chhichhore (2019) - 8.076047761635277\n",
      "94 - Lagaan: Once Upon a Time in India (2001) - 8.071618845133708\n",
      "95 - Kahaani (2012) - 8.0702423497707\n",
      "96 - Andaz Apna Apna (1994) - 8.066878720014795\n",
      "97 - Virumandi (2004) - 8.065953592226432\n",
      "98 - Uri: The Surgical Strike (2018) - 8.064839265373177\n",
      "99 - PK (2014) - 8.063459849440937\n",
      "10 -  Lucia (2013) - 8.054650250232564\n"
     ]
    }
   ],
   "source": [
    "\n",
    "movies = soup.select('td.titleColumn')\n",
    "ratings = [b.attrs.get('data-value') for b in soup.select('td.posterColumn span[name=ir]')]\n",
    "\n",
    "imdbindian = []\n",
    "\n",
    "# Store each item into dictionary (data), then put those into a list (imdb)\n",
    "for index in range(0, 100):\n",
    "    # Seperate movie into: 'place', 'title', 'year'\n",
    "    movie_string = movies[index].get_text()\n",
    "    movie = (' '.join(movie_string.split()).replace('.', ''))\n",
    "    movie_title = movie[len(str(index))+1:-7]\n",
    "    year = re.search('\\((.*?)\\)', movie_string).group(1)\n",
    "    place = movie[:len(str(index))-(len(movie))]\n",
    "    data = {\"movie_title\": movie_title,\n",
    "            \"year\": year,\n",
    "            \"place\": place,\n",
    "            \"rating\": ratings[index]}\n",
    "        \n",
    "        \n",
    "    imdbindian.append(data)\n",
    "\n",
    "for item in imdbindian:\n",
    "    print(item['place'], '-', item['movie_title'], '('+item['year']+') -',item['rating'])\n",
    "                     \n",
    "                     \n",
    "     "
   ]
  },
  {
   "cell_type": "markdown",
   "metadata": {},
   "source": [
    "#  Write a python program to scrap book name, author name, genre and book review of any 5 books from ‘www.bookpage.com’ \n",
    "    "
   ]
  },
  {
   "cell_type": "code",
   "execution_count": 302,
   "metadata": {},
   "outputs": [],
   "source": [
    "url = 'https://bookpage.com/reviews'\n",
    "r = requests.get(url)\n",
    "data = r.content\n",
    "soup = BeautifulSoup(data,'html.parser')\n",
    "#print(soup.prettify)"
   ]
  },
  {
   "cell_type": "code",
   "execution_count": 303,
   "metadata": {},
   "outputs": [],
   "source": [
    "book1_name = soup.find_all('div',class_=\"flex-article-content\")\n",
    "#print(book1_name)\n"
   ]
  },
  {
   "cell_type": "code",
   "execution_count": 154,
   "metadata": {},
   "outputs": [
    {
     "data": {
      "text/plain": [
       "['\\n\\n ★ Rise to the Sun\\n\\n\\nLeah Johnson\\n\\n\\nYA\\n / \\nYA Fiction\\n\\n\\nLeah Johnson’s second novel, Rise to the Sun, is filled with evocative details of the music festival experience and moving descriptions of live music.\\n\\n\\nRead the Review \\n\\n',\n",
       " '\\n\\nFilthy Animals\\n\\n\\nBrandon Taylor\\n\\n\\nFiction\\n / \\nShort Stories\\n\\n\\nIn Brandon Taylor’s short story collection, sexual tension acts like an undertow, lurking to pull its victims down below.\\n\\n\\nRead the Review \\n\\n',\n",
       " \"\\n\\nThe Woman They Could Not Silence\\n\\n\\nKate Moore\\n\\n\\nNonfiction\\n / \\nHistory\\n / \\nWomen's History\\n\\n\\nIn the 19th century, a brave, brilliant and completely healthy woman named Elizabeth Packard was involuntarily committed to an Illinois asylum by her husband.\\n\\n\\nRead the Review \\n\\n\",\n",
       " '\\n\\nUnder a Dancing Star\\n\\n\\nLaura Wood\\n\\n\\nYA\\n / \\nYA Fiction\\n\\n\\nUnder a Dancing Star is an effervescent retelling of Much Ado About Nothing, in which author Laura Wood transplants Shakespeare’s Beatrice and Benedick to an artists’ colony in Tuscany.\\n\\n\\nRead the Review \\n\\n',\n",
       " '\\n\\nYoke\\n\\n\\nJessamyn Stanley\\n\\n\\nNonfiction\\n / \\nEssays\\n / \\nBody, Mind & Spirit\\n\\n\\nThe 13 autobiographical essays in Yoke are brash, outspoken, funny, insightful, honest and occasionally spiced with dashes of self-deprecating melodrama.\\n\\n\\nRead the Review \\n\\n',\n",
       " '\\n\\nLeaving Isn’t the Hardest Thing\\n\\n\\nLauren Hough, Cate Blanchett\\n\\n\\nAudio\\n / \\nNonfiction\\n / \\nEssays\\n\\n\\nAuthor Lauren Hough and actor-producer Cate Blanchett create a heartbreaking and intimate experience for listeners.\\n\\n\\nRead the Review \\n\\n',\n",
       " '\\n\\nThe Rose Code\\n\\n\\nKate Quinn, Saskia Maarleveld\\n\\n\\nAudio\\n / \\nFiction\\n / \\nHistorical Fiction\\n\\n\\nThe Rose Code is a terrific story, brilliantly performed by Saskia Maarleveld. Or as Osla would say, it’s a real corker!\\n\\n\\nRead the Review \\n\\n',\n",
       " '\\n\\nThe Damage\\n\\n\\nCaitlin Wahrer\\n\\n\\nMystery & Suspense\\n / \\nSuspense\\n\\n\\nWith twists worthy of a season finale of “Law & Order: SVU,” The Damage explores a family’s struggle in the aftermath of a violent sexual assault.\\n\\n\\nRead the Review \\n\\n',\n",
       " '\\n\\n ★ Blackout\\n\\n\\nDhonielle Clayton, Tiffany D. Jackson, Nic Stone, Angie Thomas, Ashley Woodfolk, Nicola Yoon\\n\\n\\nYA\\n / \\nYA Fiction\\n\\n\\nIn Blackout, six of YA’s biggest superstars join forces to create a memorable collection of interlinked love stories that all unfold on one unforgettable New York City night.\\n\\n\\nRead the Review \\n\\n',\n",
       " '\\n\\n ★ The Sweetness of Water\\n\\n\\nNathan Harris\\n\\n\\nFiction\\n / \\nHistorical Fiction\\n\\n\\nNathan Harris’ Civil War-set debut novel celebrates all manner of relationships that combat hate.\\n\\n\\nRead the Review \\n\\n']"
      ]
     },
     "execution_count": 154,
     "metadata": {},
     "output_type": "execute_result"
    }
   ],
   "source": [
    "book_names = []\n",
    "for i in book1_name:\n",
    "    book_names.append(i.text)\n",
    "book_names    "
   ]
  },
  {
   "cell_type": "code",
   "execution_count": 155,
   "metadata": {},
   "outputs": [
    {
     "data": {
      "text/plain": [
       "[' ★ Rise to the SunLeah JohnsonYA / YA FictionLeah Johnson’s second novel, Rise to the Sun, is filled with evocative details of the music festival experience and moving descriptions of live music.Read the Review ',\n",
       " 'Filthy AnimalsBrandon TaylorFiction / Short StoriesIn Brandon Taylor’s short story collection, sexual tension acts like an undertow, lurking to pull its victims down below.Read the Review ',\n",
       " \"The Woman They Could Not SilenceKate MooreNonfiction / History / Women's HistoryIn the 19th century, a brave, brilliant and completely healthy woman named Elizabeth Packard was involuntarily committed to an Illinois asylum by her husband.Read the Review \",\n",
       " 'Under a Dancing StarLaura WoodYA / YA FictionUnder a Dancing Star is an effervescent retelling of Much Ado About Nothing, in which author Laura Wood transplants Shakespeare’s Beatrice and Benedick to an artists’ colony in Tuscany.Read the Review ',\n",
       " 'YokeJessamyn StanleyNonfiction / Essays / Body, Mind & SpiritThe 13 autobiographical essays in Yoke are brash, outspoken, funny, insightful, honest and occasionally spiced with dashes of self-deprecating melodrama.Read the Review ',\n",
       " 'Leaving Isn’t the Hardest ThingLauren Hough, Cate BlanchettAudio / Nonfiction / EssaysAuthor Lauren Hough and actor-producer Cate Blanchett create a heartbreaking and intimate experience for listeners.Read the Review ',\n",
       " 'The Rose CodeKate Quinn, Saskia MaarleveldAudio / Fiction / Historical FictionThe Rose Code is a terrific story, brilliantly performed by Saskia Maarleveld. Or as Osla would say, it’s a real corker!Read the Review ',\n",
       " 'The DamageCaitlin WahrerMystery & Suspense / SuspenseWith twists worthy of a season finale of “Law & Order: SVU,” The Damage explores a family’s struggle in the aftermath of a violent sexual assault.Read the Review ',\n",
       " ' ★ BlackoutDhonielle Clayton, Tiffany D. Jackson, Nic Stone, Angie Thomas, Ashley Woodfolk, Nicola YoonYA / YA FictionIn Blackout, six of YA’s biggest superstars join forces to create a memorable collection of interlinked love stories that all unfold on one unforgettable New York City night.Read the Review ',\n",
       " ' ★ The Sweetness of WaterNathan HarrisFiction / Historical FictionNathan Harris’ Civil War-set debut novel celebrates all manner of relationships that combat hate.Read the Review ']"
      ]
     },
     "execution_count": 155,
     "metadata": {},
     "output_type": "execute_result"
    }
   ],
   "source": [
    "book_names = []\n",
    "for i in book1_name:\n",
    "    book_names.append(i.text.replace('\\n',''))\n",
    "book_names    "
   ]
  },
  {
   "cell_type": "code",
   "execution_count": 164,
   "metadata": {},
   "outputs": [
    {
     "name": "stdout",
     "output_type": "stream",
     "text": [
      "list of all header tags :\n",
      "\n",
      "<h1 class=\"sans\">\n",
      "Book reviews\n",
      "</h1>\n",
      "\n",
      "<h4 class=\"italic\">\n",
      "<a href=\"/reviews/26434-leah-johnson-rise-to-sun-ya\"> <span style=\"font-style:normal;\">★ </span>Rise to the Sun</a>\n",
      "</h4>\n",
      "\n",
      "<h4 class=\"italic\">\n",
      "<a href=\"/reviews/26376-brandon-taylor-filthy-animals-fiction\">Filthy Animals</a>\n",
      "</h4>\n",
      "\n",
      "<h4 class=\"italic\">\n",
      "<a href=\"/reviews/26423-kate-moore-woman-they-could-not-silence-history\">The Woman They Could Not Silence</a>\n",
      "</h4>\n",
      "\n",
      "<h4 class=\"italic\">\n",
      "<a href=\"/reviews/26436-laura-wood-under-dancing-star-ya\">Under a Dancing Star</a>\n",
      "</h4>\n",
      "\n",
      "<h4 class=\"italic\">\n",
      "<a href=\"/reviews/26427-jessamyn-stanley-yoke-nonfiction\">Yoke</a>\n",
      "</h4>\n",
      "\n",
      "<h4 class=\"italic\">\n",
      "<a href=\"/reviews/26370-lauren-hough-leaving-isnt-hardest-thing-audio\">Leaving Isn’t the Hardest Thing</a>\n",
      "</h4>\n",
      "\n",
      "<h4 class=\"italic\">\n",
      "<a href=\"/reviews/26372-kate-quinn-rose-code-audio\">The Rose Code</a>\n",
      "</h4>\n",
      "\n",
      "<h4 class=\"italic\">\n",
      "<a href=\"/reviews/26443-caitlin-wahrer-damage-mystery-suspense\">The Damage</a>\n",
      "</h4>\n",
      "\n",
      "<h4 class=\"italic\">\n",
      "<a href=\"/reviews/26433-dhonielle-clayton-blackout-ya\"> <span style=\"font-style:normal;\">★ </span>Blackout</a>\n",
      "</h4>\n",
      "\n",
      "<h4 class=\"italic\">\n",
      "<a href=\"/reviews/26387-nathan-harris-sweetness-water-fiction\"> <span style=\"font-style:normal;\">★ </span>The Sweetness of Water</a>\n",
      "</h4>\n"
     ]
    }
   ],
   "source": [
    "header = soup.find_all(re.compile('^h[1-6]$'))\n",
    "print('list of all header tags :',*header,sep='\\n\\n')\n",
    "sas = soup.find('h4',class_=\"italic\").a['href']\n"
   ]
  },
  {
   "cell_type": "code",
   "execution_count": null,
   "metadata": {},
   "outputs": [],
   "source": []
  },
  {
   "cell_type": "code",
   "execution_count": 231,
   "metadata": {},
   "outputs": [],
   "source": [
    "book1_name  =   soup.find_all('h4',class_=\"italic\")\n",
    "authorname =    soup.find_all('p',class_=\"sans bold\")\n",
    "excerpt     =   soup.find_all('p',class_=\"excerpt\")\n",
    "genre      =    soup.find_all('p',class_=\"genre-links hidden-phone\")\n",
    "pad        =    soup.find_all('div',class_='bp-block article-info')\n",
    "\n",
    "\n",
    "#print(book1_name)\n",
    "#print(authorname)\n",
    "#print(excerpt)\n",
    "#print(genre)\n",
    "#print(pad)\n"
   ]
  },
  {
   "cell_type": "code",
   "execution_count": 267,
   "metadata": {},
   "outputs": [
    {
     "name": "stdout",
     "output_type": "stream",
     "text": [
      "list of genre:\n",
      "\n",
      "/reviews/26434-leah-johnson-rise-to-sun-ya\n",
      "\n",
      "/reviews/26376-brandon-taylor-filthy-animals-fiction\n",
      "\n",
      "/reviews/26423-kate-moore-woman-they-could-not-silence-history\n",
      "\n",
      "/reviews/26436-laura-wood-under-dancing-star-ya\n",
      "\n",
      "/reviews/26427-jessamyn-stanley-yoke-nonfiction\n"
     ]
    }
   ],
   "source": [
    "book_rev =[]\n",
    "for i in pad[:5]:\n",
    "     book_rev.append(i.find('h4',class_=\"italic\").a['href'])\n",
    "    \n",
    "print(\"list of genre:\",*book_rev,sep=('\\n\\n'))  "
   ]
  },
  {
   "cell_type": "code",
   "execution_count": 268,
   "metadata": {},
   "outputs": [
    {
     "data": {
      "text/plain": [
       "[' ★ Rise to the Sun',\n",
       " 'Filthy Animals',\n",
       " 'The Woman They Could Not Silence',\n",
       " 'Under a Dancing Star',\n",
       " 'Yoke']"
      ]
     },
     "execution_count": 268,
     "metadata": {},
     "output_type": "execute_result"
    }
   ],
   "source": [
    "book_names = []\n",
    "for i in book1_name[:5]:\n",
    "    book_names.append(i.text.replace('\\n',''))\n",
    "book_names    "
   ]
  },
  {
   "cell_type": "code",
   "execution_count": 269,
   "metadata": {},
   "outputs": [
    {
     "data": {
      "text/plain": [
       "['Leah Johnson',\n",
       " 'Brandon Taylor',\n",
       " 'Kate Moore',\n",
       " 'Laura Wood',\n",
       " 'Jessamyn Stanley']"
      ]
     },
     "execution_count": 269,
     "metadata": {},
     "output_type": "execute_result"
    }
   ],
   "source": [
    "author = []\n",
    "for i in authorname[:5]:\n",
    "    author.append(i.text.replace('\\n',''))\n",
    "author    "
   ]
  },
  {
   "cell_type": "code",
   "execution_count": 270,
   "metadata": {
    "scrolled": true
   },
   "outputs": [
    {
     "name": "stdout",
     "output_type": "stream",
     "text": [
      "list of review:\n",
      "\n",
      "Leah Johnson’s second novel, Rise to the Sun, is filled with evocative details of the music festival experience and moving descriptions of live music.\n",
      "\n",
      "In Brandon Taylor’s short story collection, sexual tension acts like an undertow, lurking to pull its victims down below.\n",
      "\n",
      "In the 19th century, a brave, brilliant and completely healthy woman named Elizabeth Packard was involuntarily committed to an Illinois asylum by her husband.\n",
      "\n",
      "Under a Dancing Star is an effervescent retelling of Much Ado About Nothing, in which author Laura Wood transplants Shakespeare’s Beatrice and Benedick to an artists’ colony in Tuscany.\n",
      "\n",
      "The 13 autobiographical essays in Yoke are brash, outspoken, funny, insightful, honest and occasionally spiced with dashes of self-deprecating melodrama.\n"
     ]
    }
   ],
   "source": [
    "book_excerpt =[]\n",
    "for i in excerpt[:5]:\n",
    "    book_excerpt.append(i.text.replace('\\n',''))\n",
    "print(\"list of review:\",*book_excerpt,sep=('\\n\\n'))  "
   ]
  },
  {
   "cell_type": "code",
   "execution_count": 271,
   "metadata": {},
   "outputs": [
    {
     "name": "stdout",
     "output_type": "stream",
     "text": [
      "list of genre:\n",
      "\n",
      "YA / YA Fiction\n",
      "\n",
      "Fiction / Short Stories\n",
      "\n",
      "Nonfiction / History / Women's History\n",
      "\n",
      "YA / YA Fiction\n",
      "\n",
      "Nonfiction / Essays / Body, Mind & Spirit\n"
     ]
    }
   ],
   "source": [
    "book_genre =[]\n",
    "for i in genre[0:5]:\n",
    "    book_genre.append(i.text.replace('\\n',''))\n",
    "print(\"list of genre:\",*book_genre,sep=('\\n\\n'))  "
   ]
  },
  {
   "cell_type": "code",
   "execution_count": null,
   "metadata": {},
   "outputs": [],
   "source": []
  },
  {
   "cell_type": "code",
   "execution_count": 272,
   "metadata": {},
   "outputs": [
    {
     "name": "stdout",
     "output_type": "stream",
     "text": [
      "5 5 5 5 5\n"
     ]
    }
   ],
   "source": [
    "print(len(book_names),len(author),len(book_excerpt),len(book_genre),len(book_rev))"
   ]
  },
  {
   "cell_type": "code",
   "execution_count": 273,
   "metadata": {},
   "outputs": [],
   "source": [
    "import pandas as pd\n",
    "books = pd.DataFrame({})\n",
    "books['names']= book_names\n",
    "books['authors']=author\n",
    "books['excerpt']=book_excerpt\n",
    "books['genre'] = book_genre\n",
    "books['rev'] = book_rev"
   ]
  },
  {
   "cell_type": "code",
   "execution_count": 274,
   "metadata": {},
   "outputs": [
    {
     "data": {
      "text/html": [
       "<div>\n",
       "<style scoped>\n",
       "    .dataframe tbody tr th:only-of-type {\n",
       "        vertical-align: middle;\n",
       "    }\n",
       "\n",
       "    .dataframe tbody tr th {\n",
       "        vertical-align: top;\n",
       "    }\n",
       "\n",
       "    .dataframe thead th {\n",
       "        text-align: right;\n",
       "    }\n",
       "</style>\n",
       "<table border=\"1\" class=\"dataframe\">\n",
       "  <thead>\n",
       "    <tr style=\"text-align: right;\">\n",
       "      <th></th>\n",
       "      <th>names</th>\n",
       "      <th>authors</th>\n",
       "      <th>excerpt</th>\n",
       "      <th>genre</th>\n",
       "      <th>rev</th>\n",
       "    </tr>\n",
       "  </thead>\n",
       "  <tbody>\n",
       "    <tr>\n",
       "      <th>0</th>\n",
       "      <td>★ Rise to the Sun</td>\n",
       "      <td>Leah Johnson</td>\n",
       "      <td>Leah Johnson’s second novel, Rise to the Sun, ...</td>\n",
       "      <td>YA / YA Fiction</td>\n",
       "      <td>/reviews/26434-leah-johnson-rise-to-sun-ya</td>\n",
       "    </tr>\n",
       "    <tr>\n",
       "      <th>1</th>\n",
       "      <td>Filthy Animals</td>\n",
       "      <td>Brandon Taylor</td>\n",
       "      <td>In Brandon Taylor’s short story collection, se...</td>\n",
       "      <td>Fiction / Short Stories</td>\n",
       "      <td>/reviews/26376-brandon-taylor-filthy-animals-f...</td>\n",
       "    </tr>\n",
       "    <tr>\n",
       "      <th>2</th>\n",
       "      <td>The Woman They Could Not Silence</td>\n",
       "      <td>Kate Moore</td>\n",
       "      <td>In the 19th century, a brave, brilliant and co...</td>\n",
       "      <td>Nonfiction / History / Women's History</td>\n",
       "      <td>/reviews/26423-kate-moore-woman-they-could-not...</td>\n",
       "    </tr>\n",
       "    <tr>\n",
       "      <th>3</th>\n",
       "      <td>Under a Dancing Star</td>\n",
       "      <td>Laura Wood</td>\n",
       "      <td>Under a Dancing Star is an effervescent retell...</td>\n",
       "      <td>YA / YA Fiction</td>\n",
       "      <td>/reviews/26436-laura-wood-under-dancing-star-ya</td>\n",
       "    </tr>\n",
       "    <tr>\n",
       "      <th>4</th>\n",
       "      <td>Yoke</td>\n",
       "      <td>Jessamyn Stanley</td>\n",
       "      <td>The 13 autobiographical essays in Yoke are bra...</td>\n",
       "      <td>Nonfiction / Essays / Body, Mind &amp; Spirit</td>\n",
       "      <td>/reviews/26427-jessamyn-stanley-yoke-nonfiction</td>\n",
       "    </tr>\n",
       "  </tbody>\n",
       "</table>\n",
       "</div>"
      ],
      "text/plain": [
       "                              names           authors  \\\n",
       "0                 ★ Rise to the Sun      Leah Johnson   \n",
       "1                    Filthy Animals    Brandon Taylor   \n",
       "2  The Woman They Could Not Silence        Kate Moore   \n",
       "3              Under a Dancing Star        Laura Wood   \n",
       "4                              Yoke  Jessamyn Stanley   \n",
       "\n",
       "                                             excerpt  \\\n",
       "0  Leah Johnson’s second novel, Rise to the Sun, ...   \n",
       "1  In Brandon Taylor’s short story collection, se...   \n",
       "2  In the 19th century, a brave, brilliant and co...   \n",
       "3  Under a Dancing Star is an effervescent retell...   \n",
       "4  The 13 autobiographical essays in Yoke are bra...   \n",
       "\n",
       "                                       genre  \\\n",
       "0                            YA / YA Fiction   \n",
       "1                    Fiction / Short Stories   \n",
       "2     Nonfiction / History / Women's History   \n",
       "3                            YA / YA Fiction   \n",
       "4  Nonfiction / Essays / Body, Mind & Spirit   \n",
       "\n",
       "                                                 rev  \n",
       "0         /reviews/26434-leah-johnson-rise-to-sun-ya  \n",
       "1  /reviews/26376-brandon-taylor-filthy-animals-f...  \n",
       "2  /reviews/26423-kate-moore-woman-they-could-not...  \n",
       "3    /reviews/26436-laura-wood-under-dancing-star-ya  \n",
       "4    /reviews/26427-jessamyn-stanley-yoke-nonfiction  "
      ]
     },
     "execution_count": 274,
     "metadata": {},
     "output_type": "execute_result"
    }
   ],
   "source": [
    "books"
   ]
  },
  {
   "cell_type": "code",
   "execution_count": null,
   "metadata": {},
   "outputs": [],
   "source": []
  },
  {
   "cell_type": "code",
   "execution_count": null,
   "metadata": {},
   "outputs": [],
   "source": []
  },
  {
   "cell_type": "code",
   "execution_count": null,
   "metadata": {},
   "outputs": [],
   "source": []
  },
  {
   "cell_type": "code",
   "execution_count": null,
   "metadata": {},
   "outputs": [],
   "source": []
  },
  {
   "cell_type": "markdown",
   "metadata": {},
   "source": [
    " # Write a python program to scrape cricket rankings from ‘www.icc-cricket.com’. You have to scrape: i) Top 10 ODI teams in men’s cricket along with the records for matches, points and rating."
   ]
  },
  {
   "cell_type": "code",
   "execution_count": 275,
   "metadata": {},
   "outputs": [],
   "source": [
    "import pandas as pd\n",
    "\n",
    "url = 'https://www.icc-cricket.com/rankings/mens/team-rankings/odi'\n",
    "r = requests.get(url)\n",
    "data = r.content\n",
    "soup = BeautifulSoup(data,'html.parser')\n",
    "#print(soup.prettify)"
   ]
  },
  {
   "cell_type": "code",
   "execution_count": 304,
   "metadata": {},
   "outputs": [],
   "source": [
    "odi_table = soup.find('table',class_=\"table\")\n",
    "#print(odi_table)"
   ]
  },
  {
   "cell_type": "code",
   "execution_count": 277,
   "metadata": {},
   "outputs": [
    {
     "name": "stdout",
     "output_type": "stream",
     "text": [
      "['Pos', 'Team T', 'Matches M', 'Points P', 'Rating R']\n"
     ]
    }
   ],
   "source": [
    "\n",
    "headers = []\n",
    "for i in odi_table.find_all('th'):\n",
    "    title = i.text.strip()\n",
    "    headers.append(title.replace('\\n',' '))\n",
    "print(headers)\n",
    "\n",
    "                                    \n",
    "                            \n",
    "        "
   ]
  },
  {
   "cell_type": "code",
   "execution_count": 278,
   "metadata": {},
   "outputs": [
    {
     "name": "stdout",
     "output_type": "stream",
     "text": [
      "  Pos            Team T Matches M Points P Rating R\n",
      "0   1   New Zealand\\nNZ        17    2,054      121\n",
      "1   2    Australia\\nAUS        25    2,945      118\n",
      "2   3        India\\nIND        29    3,344      115\n",
      "3   4      England\\nENG        27    3,100      115\n",
      "4   5  South Africa\\nSA        20    2,137      107\n",
      "5   6     Pakistan\\nPAK        24    2,323       97\n",
      "6   7   Bangladesh\\nBAN        27    2,438       90\n",
      "7   8   West Indies\\nWI        27    2,222       82\n",
      "8   9     Sri Lanka\\nSL        24    1,876       78\n",
      "9  10  Afghanistan\\nAFG        17    1,054       62\n"
     ]
    }
   ],
   "source": [
    "df = pd.DataFrame(columns = headers)\n",
    "for row in odi_table.find_all('tr')[1:11]:\n",
    "    data = row.find_all('td')\n",
    "    row_data = [td.text.strip() for td in data]\n",
    "    length = len(df)\n",
    "    df.loc[length] = row_data\n",
    "print(df)    "
   ]
  },
  {
   "cell_type": "markdown",
   "metadata": {},
   "source": [
    "#  ii) Top 10 ODI Batsmen in men along with the records of their team and rating       \n",
    "     "
   ]
  },
  {
   "cell_type": "code",
   "execution_count": 279,
   "metadata": {},
   "outputs": [],
   "source": [
    "url1 = 'https://www.icc-cricket.com/rankings/mens/player-rankings/odi/batting'\n",
    "r = requests.get(url1)\n",
    "data = r.content\n",
    "soup = BeautifulSoup(data,'html.parser')\n",
    "#print(soup.prettify)"
   ]
  },
  {
   "cell_type": "code",
   "execution_count": 305,
   "metadata": {},
   "outputs": [],
   "source": [
    "odi_batsman_table = soup.find('table',class_=\"table\")\n",
    "            \n",
    "#print(odi_batsman_table)"
   ]
  },
  {
   "cell_type": "code",
   "execution_count": 281,
   "metadata": {},
   "outputs": [
    {
     "name": "stdout",
     "output_type": "stream",
     "text": [
      "['Pos', 'Player', 'Team', 'Rating', 'Career Best Rating']\n"
     ]
    }
   ],
   "source": [
    "headers0 = []\n",
    "for i in odi_batsman_table.find_all('th'):\n",
    "    title = i.text.strip()\n",
    "    headers0.append(title.replace('\\n',' '))\n",
    "print(headers0)\n"
   ]
  },
  {
   "cell_type": "code",
   "execution_count": 282,
   "metadata": {},
   "outputs": [
    {
     "name": "stdout",
     "output_type": "stream",
     "text": [
      "  Pos               Player Team Rating              Career Best Rating\n",
      "0   1           Babar Azam  PAK    865  865 v South Africa, 07/04/2021\n",
      "1   2          Virat Kohli  IND    857       911 v England, 12/07/2018\n",
      "2   3         Rohit Sharma  IND    825     885 v Sri Lanka, 06/07/2019\n",
      "3   4          Ross Taylor   NZ    801    841 v Bangladesh, 05/06/2019\n",
      "4   5          Aaron Finch  AUS    791       798 v England, 25/06/2019\n",
      "5   6       Jonny Bairstow  ENG    785         796 v India, 26/03/2021\n",
      "6   7         Fakhar Zaman  PAK    778  778 v South Africa, 07/04/2021\n",
      "7      Francois du Plessis   SA    778     820 v Australia, 06/07/2019\n",
      "8   9         David Warner  AUS    773      880 v Pakistan, 26/01/2017\n",
      "9                Shai Hope   WI    773    808 v Bangladesh, 17/05/2019\n"
     ]
    }
   ],
   "source": [
    "df = pd.DataFrame(columns = headers0)\n",
    "for row in odi_batsman_table.find_all('tr')[1:11]:\n",
    "    data = row.find_all('td')\n",
    "    row_data = [td.text.strip() for td in data]\n",
    "    length = len(df)\n",
    "    df.loc[length] = row_data\n",
    "print(df)    "
   ]
  },
  {
   "cell_type": "markdown",
   "metadata": {},
   "source": [
    "# iii) Top 10 ODI bowlers along with the records of their team and rating. "
   ]
  },
  {
   "cell_type": "code",
   "execution_count": 283,
   "metadata": {},
   "outputs": [],
   "source": [
    "url12 = 'https://www.icc-cricket.com/rankings/mens/player-rankings/odi/bowling'\n",
    "r = requests.get(url12)\n",
    "data = r.content\n",
    "soup = BeautifulSoup(data,'html.parser')\n",
    "#print(soup.prettify)"
   ]
  },
  {
   "cell_type": "code",
   "execution_count": 306,
   "metadata": {},
   "outputs": [],
   "source": [
    "tab = soup.find('table',class_=\"table\")\n",
    "#print(tab)\n",
    "                             \n",
    "           "
   ]
  },
  {
   "cell_type": "code",
   "execution_count": 285,
   "metadata": {},
   "outputs": [
    {
     "name": "stdout",
     "output_type": "stream",
     "text": [
      "['Pos', 'Player', 'Team', 'Rating', 'Career Best Rating']\n"
     ]
    }
   ],
   "source": [
    "headers1 = []\n",
    "for i in tab.find_all('th'):\n",
    "    title = i.text.strip()\n",
    "    headers1.append(title.replace('\\n',' '))\n",
    "print(headers1)\n"
   ]
  },
  {
   "cell_type": "code",
   "execution_count": 286,
   "metadata": {},
   "outputs": [
    {
     "name": "stdout",
     "output_type": "stream",
     "text": [
      "  Pos             Player Team Rating             Career Best Rating\n",
      "0   1        Trent Boult   NZ    737  770 v West Indies, 22/06/2019\n",
      "1   2       Mehedi Hasan  BAN    713    725 v Sri Lanka, 25/05/2021\n",
      "2   3   Mujeeb Ur Rahman  AFG    708      712 v Ireland, 24/01/2021\n",
      "3   4         Matt Henry   NZ    691   691 v Bangladesh, 26/03/2021\n",
      "4   5     Jasprit Bumrah  IND    690  841 v West Indies, 01/11/2018\n",
      "5   6      Kagiso Rabada   SA    666      724 v England, 29/05/2017\n",
      "6   7       Chris Woakes  ENG    665  676 v New Zealand, 14/07/2019\n",
      "7   8     Josh Hazlewood  AUS    660      733 v England, 26/01/2018\n",
      "8   9        Pat Cummins  AUS    646     729 v Pakistan, 12/06/2019\n",
      "9  10  Mustafizur Rahman  BAN    645  695 v West Indies, 14/12/2018\n"
     ]
    }
   ],
   "source": [
    "df = pd.DataFrame(columns = headers1)\n",
    "for row in tab.find_all('tr')[1:11]:\n",
    "    data = row.find_all('td')\n",
    "    row_data = [td.text.strip() for td in data]\n",
    "    length = len(df)\n",
    "    df.loc[length] = row_data\n",
    "print(df)    "
   ]
  },
  {
   "cell_type": "markdown",
   "metadata": {},
   "source": [
    "# using pandas"
   ]
  },
  {
   "cell_type": "code",
   "execution_count": 245,
   "metadata": {},
   "outputs": [
    {
     "data": {
      "text/plain": [
       "[                                                  Pos            Player Team  \\\n",
       " 0                                                   1       Trent Boult   NZ   \n",
       " 1                                                   2      Mehedi Hasan  BAN   \n",
       " 2                                                   3  Mujeeb Ur Rahman  AFG   \n",
       " 3                                                   4        Matt Henry   NZ   \n",
       " 4                                                   5    Jasprit Bumrah  IND   \n",
       " ..                                                ...               ...  ...   \n",
       " 95  96  This player has moved up in the rankings s...       Ashton Agar  AUS   \n",
       " 96  97  This player has moved up in the rankings s...    Mohammad Nawaz  PAK   \n",
       " 97  98  This player has moved up in the rankings s...   Donald Tiripano  ZIM   \n",
       " 98  99  This player has moved down in the rankings...   George Dockrell  IRE   \n",
       " 99                                                100     Bradley Wheal  SCO   \n",
       " \n",
       "     Rating              Career Best Rating  \n",
       " 0      737   770 v West Indies, 22/06/2019  \n",
       " 1      713     725 v Sri Lanka, 25/05/2021  \n",
       " 2      708       712 v Ireland, 24/01/2021  \n",
       " 3      691    691 v Bangladesh, 26/03/2021  \n",
       " 4      690   841 v West Indies, 01/11/2018  \n",
       " ..     ...                             ...  \n",
       " 95     377         377 v India, 02/12/2020  \n",
       " 96     376  376 v South Africa, 07/04/2021  \n",
       " 97     373      373 v Pakistan, 03/11/2020  \n",
       " 98     370   589 v West Indies, 16/02/2015  \n",
       " 99     368     385 v Sri Lanka, 21/05/2019  \n",
       " \n",
       " [100 rows x 5 columns]]"
      ]
     },
     "execution_count": 245,
     "metadata": {},
     "output_type": "execute_result"
    }
   ],
   "source": [
    "df  = pd.read_html(url12,header = 0)\n",
    "df"
   ]
  },
  {
   "cell_type": "markdown",
   "metadata": {},
   "source": [
    "# Write a python program to scrape cricket rankings from ‘www.icc-cricket.com’. You have to scrape:\n",
    "## i) Top 10 ODI teams in women’s cricket along with the records for matches, points and rating."
   ]
  },
  {
   "cell_type": "code",
   "execution_count": 287,
   "metadata": {},
   "outputs": [],
   "source": [
    "url14 = 'https://www.icc-cricket.com/rankings/womens/team-rankings/odi'\n",
    "r = requests.get(url14)\n",
    "data = r.content\n",
    "soup = BeautifulSoup(data,'html.parser')\n",
    "#print(soup.prettify)'\n"
   ]
  },
  {
   "cell_type": "code",
   "execution_count": 307,
   "metadata": {},
   "outputs": [],
   "source": [
    "womens_team = soup.find('table',class_=\"table\")\n",
    "#print(tab)\n",
    "                             \n",
    "           "
   ]
  },
  {
   "cell_type": "code",
   "execution_count": 289,
   "metadata": {},
   "outputs": [
    {
     "name": "stdout",
     "output_type": "stream",
     "text": [
      "['Pos', 'Player', 'Team', 'Rating', 'Career Best Rating']\n"
     ]
    }
   ],
   "source": [
    "headers14 = []\n",
    "for i in tab.find_all('th'):\n",
    "    title = i.text.strip()\n",
    "    headers14.append(title.replace('\\n',' '))\n",
    "print(headers14)\n"
   ]
  },
  {
   "cell_type": "code",
   "execution_count": 290,
   "metadata": {},
   "outputs": [
    {
     "name": "stdout",
     "output_type": "stream",
     "text": [
      "  Pos                  Player Team Rating  \\\n",
      "0   1        Australia  AUS     18  2,955   \n",
      "1   2      South Africa  SA     24  2,828   \n",
      "2   3          England  ENG     17  1,993   \n",
      "3   4            India  IND     20  2,226   \n",
      "4   5       New Zealand  NZ     21  1,947   \n",
      "5   6       West Indies  WI     12  1,025   \n",
      "6   7         Pakistan  PAK     15  1,101   \n",
      "7   8       Bangladesh  BAN      5    306   \n",
      "8   9         Sri Lanka  SL     11    519   \n",
      "9  10          Ireland  IRE      2     25   \n",
      "\n",
      "                                  Career Best Rating  \n",
      "0                                164             ...  \n",
      "1                                                118  \n",
      "2                                                117  \n",
      "3                                                111  \n",
      "4                                                 93  \n",
      "5                                                 85  \n",
      "6                                                 73  \n",
      "7                                                 61  \n",
      "8                                                 47  \n",
      "9                                                 13  \n"
     ]
    }
   ],
   "source": [
    "df = pd.DataFrame(columns = headers14)\n",
    "for row in womens_team.find_all('tr')[1:11]:\n",
    "    data = row.find_all('td')\n",
    "    row_data = [td.text.replace('\\n','  ') for td in data]\n",
    "    length = len(df)\n",
    "    df.loc[length] = row_data\n",
    "print(df)    "
   ]
  },
  {
   "cell_type": "markdown",
   "metadata": {},
   "source": [
    "# ii) Top 10 women’s ODI players along with the records of their team and rating.  "
   ]
  },
  {
   "cell_type": "code",
   "execution_count": 291,
   "metadata": {},
   "outputs": [],
   "source": [
    "url15 = 'https://www.icc-cricket.com/rankings/womens/player-rankings/odi/batting'\n",
    "r = requests.get(url15)\n",
    "data = r.content\n",
    "soup = BeautifulSoup(data,'html.parser')\n",
    "#print(soup.prettify)'\n"
   ]
  },
  {
   "cell_type": "code",
   "execution_count": 308,
   "metadata": {},
   "outputs": [],
   "source": [
    "womens_player = soup.find('table',class_=\"table\")\n",
    "#print(tab)\n",
    "                             \n",
    "           "
   ]
  },
  {
   "cell_type": "code",
   "execution_count": 293,
   "metadata": {},
   "outputs": [
    {
     "name": "stdout",
     "output_type": "stream",
     "text": [
      "['Pos', 'Player', 'Team', 'Rating', 'Career Best Rating']\n"
     ]
    }
   ],
   "source": [
    "headers15 = []\n",
    "for i in tab.find_all('th'):\n",
    "    title = i.text.strip()\n",
    "    headers15.append(title.replace('\\n',' '))\n",
    "print(headers15)\n"
   ]
  },
  {
   "cell_type": "code",
   "execution_count": 294,
   "metadata": {},
   "outputs": [
    {
     "name": "stdout",
     "output_type": "stream",
     "text": [
      "                                                 Pos             Player Team  \\\n",
      "0                                                  1     Tammy Beaumont  ENG   \n",
      "1                                                  2        Lizelle Lee   SA   \n",
      "2                                                  3       Alyssa Healy  AUS   \n",
      "3                                                  4    Stafanie Taylor   WI   \n",
      "4                                                  5        Meg Lanning  AUS   \n",
      "5                                                  6  Amy Satterthwaite   NZ   \n",
      "6                                                  7    Smriti Mandhana  IND   \n",
      "7                                                  8        Mithali Raj  IND   \n",
      "8  9\\n        \\n\\n\\n\\nThis player has moved up in...     Natalie Sciver  ENG   \n",
      "9  10\\n        \\n\\n\\n\\nThis player has moved up i...    Laura Wolvaardt   SA   \n",
      "\n",
      "  Rating             Career Best Rating  \n",
      "0    765  765 v New Zealand, 28/02/2021  \n",
      "1    758        773 v India, 14/03/2021  \n",
      "2    756  756 v New Zealand, 10/04/2021  \n",
      "3    746        765 v India, 02/03/2012  \n",
      "4    723  834 v New Zealand, 24/02/2016  \n",
      "5    715    756 v Australia, 02/03/2017  \n",
      "6    710      797 v England, 28/02/2019  \n",
      "7    709    839 v Australia, 24/12/2004  \n",
      "8    685        712 v India, 25/02/2019  \n",
      "9    683        725 v India, 07/03/2021  \n"
     ]
    }
   ],
   "source": [
    "df = pd.DataFrame(columns = headers15)\n",
    "for row in womens_player.find_all('tr')[1:11]:\n",
    "    data = row.find_all('td')\n",
    "    row_data = [td.text.strip() for td in data]\n",
    "    length = len(df)\n",
    "    df.loc[length] = row_data\n",
    "print(df)    "
   ]
  },
  {
   "cell_type": "markdown",
   "metadata": {},
   "source": [
    "# iii) Top 10 women’s ODI all-rounder along with the records of their team and rating. "
   ]
  },
  {
   "cell_type": "code",
   "execution_count": 295,
   "metadata": {},
   "outputs": [],
   "source": [
    "url16 = 'https://www.icc-cricket.com/rankings/womens/player-rankings/odi/all-rounder'\n",
    "r = requests.get(url16)\n",
    "data = r.content\n",
    "soup = BeautifulSoup(data,'html.parser')\n",
    "#print(soup.prettify)\n"
   ]
  },
  {
   "cell_type": "code",
   "execution_count": 309,
   "metadata": {},
   "outputs": [],
   "source": [
    "womens_allrounder = soup.find('table',class_=\"table\")\n",
    "#print(tab)\n",
    "                             \n",
    "           "
   ]
  },
  {
   "cell_type": "code",
   "execution_count": 297,
   "metadata": {},
   "outputs": [
    {
     "name": "stdout",
     "output_type": "stream",
     "text": [
      "['Pos', 'Player', 'Team', 'Rating', 'Career Best Rating']\n"
     ]
    }
   ],
   "source": [
    "headers16 = []\n",
    "for i in womens_allrounder.find_all('th'):\n",
    "    title = i.text.strip()\n",
    "    headers16.append(title.replace('\\n',' '))\n",
    "print(headers16)\n"
   ]
  },
  {
   "cell_type": "code",
   "execution_count": 298,
   "metadata": {},
   "outputs": [
    {
     "name": "stdout",
     "output_type": "stream",
     "text": [
      "                                                 Pos            Player Team  \\\n",
      "0                                                  1    Marizanne Kapp   SA   \n",
      "1  This player has moved down in the rankings sin...      Ellyse Perry  AUS   \n",
      "2                                                  3   Stafanie Taylor   WI   \n",
      "3                                                  4    Natalie Sciver  ENG   \n",
      "4                                                  5     Deepti Sharma  IND   \n",
      "5                                                  6     Jess Jonassen  AUS   \n",
      "6                                                  7  Ashleigh Gardner  AUS   \n",
      "7  8\\n        \\n\\n\\n\\nThis player has moved up in...  Dane van Niekerk   SA   \n",
      "8  9\\n        \\n\\n\\n\\nThis player has moved down ...     Sophie Devine   NZ   \n",
      "9  10\\n        \\n\\n\\n\\nThis player has moved down...       Amelia Kerr   NZ   \n",
      "\n",
      "  Rating              Career Best Rating  \n",
      "0    418         418 v India, 17/03/2021  \n",
      "1    418   548 v West Indies, 11/09/2019  \n",
      "2    410   559 v New Zealand, 10/10/2013  \n",
      "3    349   349 v New Zealand, 28/02/2021  \n",
      "4    343  397 v South Africa, 09/10/2019  \n",
      "5    307   308 v West Indies, 11/09/2019  \n",
      "6    252   256 v New Zealand, 04/04/2021  \n",
      "7    243     421 v Sri Lanka, 11/02/2019  \n",
      "8    242     305 v Australia, 05/10/2020  \n",
      "9    236     247 v Australia, 07/04/2021  \n"
     ]
    }
   ],
   "source": [
    "df = pd.DataFrame(columns = headers16)\n",
    "for row in womens_allrounder.find_all('tr')[1:11]:\n",
    "    data = row.find_all('td')\n",
    "    row_data = [td.text.strip() for td in data]\n",
    "    length = len(df)\n",
    "    df.loc[length] = row_data\n",
    "print(df)    "
   ]
  },
  {
   "cell_type": "markdown",
   "metadata": {},
   "source": [
    "# Write a python program to scrape details of all the mobile phones under Rs. 20,000 listed on Amazon.in. The scraped data should include Product Name, Price, Image URL and Average Rating. "
   ]
  },
  {
   "cell_type": "code",
   "execution_count": 310,
   "metadata": {},
   "outputs": [],
   "source": [
    "url200 = \"https://www.amazon.in/s?k=mobile+phones+under+30000+rupees&i=electronics&ref=nb_sb_noss_1\"\n",
    "r = requests.get(url200)\n",
    "data = r.content\n",
    "soup = BeautifulSoup(data,'html.parser')\n",
    "#print(soup.prettify)\n"
   ]
  },
  {
   "cell_type": "code",
   "execution_count": 6,
   "metadata": {},
   "outputs": [
    {
     "name": "stdout",
     "output_type": "stream",
     "text": [
      "[<span class=\"a-size-medium a-color-base a-text-normal\">Redmi 9A (Nature Green, 2GB RAM, 32GB Storage) | 2GHz Octa-core Helio G25 Processor | 5000 mAh Battery</span>, <span class=\"a-size-medium a-color-base a-text-normal\">Oppo A31 (Fantasy White, 6GB RAM, 128GB Storage) with No Cost EMI/Additional Exchange Offers</span>, <span class=\"a-size-medium a-color-base a-text-normal\">Redmi 9 (Sky Blue, 4GB RAM, 64GB Storage)| 5000 mAh| 2.3GHz Mediatek Helio G35 Octa core Processor</span>, <span class=\"a-size-medium a-color-base a-text-normal\">Samsung Galaxy M51 (Electric Blue, 8GB RAM, 128GB Storage)</span>, <span class=\"a-size-medium a-color-base a-text-normal\">Samsung Galaxy M42 5G (Prism Dot Black, 8GB RAM, 128GB Storage)</span>, <span class=\"a-size-medium a-color-base a-text-normal\">Samsung Galaxy M11 (Metallic Blue, 4GB RAM, 64GB Storage) with No Cost EMI/Additional Exchange Offers</span>, <span class=\"a-size-medium a-color-base a-text-normal\">Redmi Note 9 (Pebble Grey, 4GB RAM 64GB Storage) - 48MP Quad Camera &amp; Full HD+ Display</span>, <span class=\"a-size-medium a-color-base a-text-normal\">Redmi 9 Power (Mighty Black, 6GB RAM, 128GB Storage) - 6000mAh Battery |FHD+ Screen| 48MP Quad Camera | Snapdragon 662 Processor</span>, <span class=\"a-size-medium a-color-base a-text-normal\">Samsung Galaxy M31 (Ocean Blue, 8GB RAM, 128GB Storage)</span>, <span class=\"a-size-medium a-color-base a-text-normal\">Redmi 9 (Carbon Black, 4GB RAM, 64GB Storage) | 5000 mAh| 2.3GHz Mediatek Helio G35 Octa core Processor</span>, <span class=\"a-size-medium a-color-base a-text-normal\">Redmi Note 10 (Aqua Green, 6GB RAM, 128GB Storage) - Amoled Dot Display | 48MP Sony Sensor IMX582 | Snapdragon 678 Processor</span>, <span class=\"a-size-medium a-color-base a-text-normal\">Samsung Galaxy M11 (Black, 4GB RAM, 64GB Storage) with No Cost EMI/Additional Exchange Offers</span>, <span class=\"a-size-medium a-color-base a-text-normal\">Samsung Galaxy M01 Core (Black, 2GB RAM, 32GB Storage) with No Cost EMI/Additional Exchange Offers</span>, <span class=\"a-size-medium a-color-base a-text-normal\">Redmi 9A (Sea Blue 2GB RAM 32GB Storage) | 2GHz Octa-core Helio G25 Processor | 5000 mAh Battery</span>, <span class=\"a-size-medium a-color-base a-text-normal\">Redmi Note 10 (Shadow Black, 4GB RAM, 64GB Storage) - Amoled Dot Display | 48MP Sony Sensor IMX582 | Snapdragon 678 Processor</span>, <span class=\"a-size-medium a-color-base a-text-normal\">TECNO Spark 7T(Magnet Black, 4GB RAM,64GB Storage) 6000 mAh Battery| 48 MP AI Dual Rear Camera</span>, <span class=\"a-size-medium a-color-base a-text-normal\">Samsung Galaxy M31 (Ocean Blue, 6GB RAM, 128GB Storage)</span>, <span class=\"a-size-medium a-color-base a-text-normal\">Panasonic Eluga i7 (2GB RAM, 16GB Storage, Finger Print Sensor, 4000mAh Battery) (Black)</span>, <span class=\"a-size-medium a-color-base a-text-normal\">Redmi 9A (Midnight Black 2GB RAM 32GB Storage) | 2GHz Octa-core Helio G25 Processor | 5000 mAh Battery</span>, <span class=\"a-size-medium a-color-base a-text-normal\">Samsung Galaxy M02s (Blue,4GB RAM, 64GB Storage) | 5000 mAh | Triple Camera</span>, <span class=\"a-size-medium a-color-base a-text-normal\">Nokia C3 Android 10 Smartphone with 2GB RAM 16GB Storage, All-Day Battery and Fingerprint Sensor – Nordic Blue</span>, <span class=\"a-size-medium a-color-base a-text-normal\">Vivo Y20G (Obsidiant Black, 6GB, 128GB Storage) with No Cost EMI/Additional Exchange Offers</span>, <span class=\"a-size-medium a-color-base a-text-normal\">Nokia 105 Single SIM (Blue)</span>, <span class=\"a-size-medium a-color-base a-text-normal\">Samsung Galaxy M12 (Blue,4GB RAM, 64GB Storage) 6000 mAh with 8nm Processor | True 48 MP Quad Camera | 90Hz Refresh Rate</span>]\n"
     ]
    }
   ],
   "source": [
    "name = soup.find_all('span',class_=\"a-size-medium a-color-base a-text-normal\")\n",
    "print(name)\n",
    "\n"
   ]
  },
  {
   "cell_type": "code",
   "execution_count": 7,
   "metadata": {},
   "outputs": [
    {
     "name": "stdout",
     "output_type": "stream",
     "text": [
      "list of names:\n",
      "\n",
      "Redmi 9A (Nature Green, 2GB RAM, 32GB Storage) | 2GHz Octa-core Helio G25 Processor | 5000 mAh Battery\n",
      "\n",
      "Oppo A31 (Fantasy White, 6GB RAM, 128GB Storage) with No Cost EMI/Additional Exchange Offers\n",
      "\n",
      "Redmi 9 (Sky Blue, 4GB RAM, 64GB Storage)| 5000 mAh| 2.3GHz Mediatek Helio G35 Octa core Processor\n",
      "\n",
      "Samsung Galaxy M51 (Electric Blue, 8GB RAM, 128GB Storage)\n",
      "\n",
      "Samsung Galaxy M42 5G (Prism Dot Black, 8GB RAM, 128GB Storage)\n",
      "\n",
      "Samsung Galaxy M11 (Metallic Blue, 4GB RAM, 64GB Storage) with No Cost EMI/Additional Exchange Offers\n",
      "\n",
      "Redmi Note 9 (Pebble Grey, 4GB RAM 64GB Storage) - 48MP Quad Camera & Full HD+ Display\n",
      "\n",
      "Redmi 9 Power (Mighty Black, 6GB RAM, 128GB Storage) - 6000mAh Battery |FHD+ Screen| 48MP Quad Camera | Snapdragon 662 Processor\n",
      "\n",
      "Samsung Galaxy M31 (Ocean Blue, 8GB RAM, 128GB Storage)\n",
      "\n",
      "Redmi 9 (Carbon Black, 4GB RAM, 64GB Storage) | 5000 mAh| 2.3GHz Mediatek Helio G35 Octa core Processor\n",
      "\n",
      "Redmi Note 10 (Aqua Green, 6GB RAM, 128GB Storage) - Amoled Dot Display | 48MP Sony Sensor IMX582 | Snapdragon 678 Processor\n",
      "\n",
      "Samsung Galaxy M11 (Black, 4GB RAM, 64GB Storage) with No Cost EMI/Additional Exchange Offers\n",
      "\n",
      "Samsung Galaxy M01 Core (Black, 2GB RAM, 32GB Storage) with No Cost EMI/Additional Exchange Offers\n",
      "\n",
      "Redmi 9A (Sea Blue 2GB RAM 32GB Storage) | 2GHz Octa-core Helio G25 Processor | 5000 mAh Battery\n",
      "\n",
      "Redmi Note 10 (Shadow Black, 4GB RAM, 64GB Storage) - Amoled Dot Display | 48MP Sony Sensor IMX582 | Snapdragon 678 Processor\n",
      "\n",
      "TECNO Spark 7T(Magnet Black, 4GB RAM,64GB Storage) 6000 mAh Battery| 48 MP AI Dual Rear Camera\n"
     ]
    }
   ],
   "source": [
    "phone_names =[]\n",
    "for i in name[0:16]:\n",
    "      phone_names.append(i.text.replace('\\n',''))\n",
    "print(\"list of names:\",*phone_names,sep=('\\n\\n')) \n"
   ]
  },
  {
   "cell_type": "code",
   "execution_count": 8,
   "metadata": {},
   "outputs": [
    {
     "data": {
      "text/plain": [
       "[<span class=\"a-price-whole\">6,799</span>,\n",
       " <span class=\"a-price-whole\">11,490</span>,\n",
       " <span class=\"a-price-whole\">8,799</span>,\n",
       " <span class=\"a-price-whole\">22,999</span>,\n",
       " <span class=\"a-price-whole\">23,999</span>,\n",
       " <span class=\"a-price-whole\">8,999</span>,\n",
       " <span class=\"a-price-whole\">10,999</span>,\n",
       " <span class=\"a-price-whole\">12,999</span>,\n",
       " <span class=\"a-price-whole\">16,999</span>,\n",
       " <span class=\"a-price-whole\">8,799</span>,\n",
       " <span class=\"a-price-whole\">14,999</span>,\n",
       " <span class=\"a-price-whole\">8,999</span>,\n",
       " <span class=\"a-price-whole\">6,199</span>,\n",
       " <span class=\"a-price-whole\">6,799</span>,\n",
       " <span class=\"a-price-whole\">12,499</span>,\n",
       " <span class=\"a-price-whole\">8,999</span>,\n",
       " <span class=\"a-price-whole\">14,999</span>,\n",
       " <span class=\"a-price-whole\">5,298</span>,\n",
       " <span class=\"a-price-whole\">6,799</span>,\n",
       " <span class=\"a-price-whole\">9,999</span>,\n",
       " <span class=\"a-price-whole\">6,749</span>,\n",
       " <span class=\"a-price-whole\">14,990</span>,\n",
       " <span class=\"a-price-whole\">1,199</span>,\n",
       " <span class=\"a-price-whole\">10,999</span>]"
      ]
     },
     "execution_count": 8,
     "metadata": {},
     "output_type": "execute_result"
    }
   ],
   "source": [
    "phone_cost = soup.find_all('span',class_='a-price-whole')\n",
    "phone_cost"
   ]
  },
  {
   "cell_type": "code",
   "execution_count": 9,
   "metadata": {},
   "outputs": [
    {
     "name": "stdout",
     "output_type": "stream",
     "text": [
      "list of prices:\n",
      "\n",
      "6,799\n",
      "\n",
      "11,490\n",
      "\n",
      "8,799\n",
      "\n",
      "22,999\n",
      "\n",
      "23,999\n",
      "\n",
      "8,999\n",
      "\n",
      "10,999\n",
      "\n",
      "12,999\n",
      "\n",
      "16,999\n",
      "\n",
      "8,799\n",
      "\n",
      "14,999\n",
      "\n",
      "8,999\n",
      "\n",
      "6,199\n",
      "\n",
      "6,799\n",
      "\n",
      "12,499\n",
      "\n",
      "8,999\n"
     ]
    }
   ],
   "source": [
    "phone_price =[]\n",
    "for i in phone_cost[0:16]:\n",
    "    phone_price.append(i.text.replace('\\n',''))\n",
    "print(\"list of prices:\",*phone_price,sep=('\\n\\n')) \n"
   ]
  },
  {
   "cell_type": "code",
   "execution_count": 10,
   "metadata": {},
   "outputs": [
    {
     "data": {
      "text/plain": [
       "[<span class=\"a-icon-alt\">4.2 out of 5 stars</span>,\n",
       " <span class=\"a-icon-alt\">4.2 out of 5 stars</span>,\n",
       " <span class=\"a-icon-alt\">4.2 out of 5 stars</span>,\n",
       " <span class=\"a-icon-alt\">4.4 out of 5 stars</span>,\n",
       " <span class=\"a-icon-alt\">4.1 out of 5 stars</span>,\n",
       " <span class=\"a-icon-alt\">4.2 out of 5 stars</span>,\n",
       " <span class=\"a-icon-alt\">4.3 out of 5 stars</span>,\n",
       " <span class=\"a-icon-alt\">4.2 out of 5 stars</span>,\n",
       " <span class=\"a-icon-alt\">4.3 out of 5 stars</span>,\n",
       " <span class=\"a-icon-alt\">4.2 out of 5 stars</span>,\n",
       " <span class=\"a-icon-alt\">4.1 out of 5 stars</span>,\n",
       " <span class=\"a-icon-alt\">4.2 out of 5 stars</span>,\n",
       " <span class=\"a-icon-alt\">3.7 out of 5 stars</span>,\n",
       " <span class=\"a-icon-alt\">4.2 out of 5 stars</span>,\n",
       " <span class=\"a-icon-alt\">4.1 out of 5 stars</span>,\n",
       " <span class=\"a-icon-alt\">4.4 out of 5 stars</span>,\n",
       " <span class=\"a-icon-alt\">4.3 out of 5 stars</span>,\n",
       " <span class=\"a-icon-alt\">3.1 out of 5 stars</span>,\n",
       " <span class=\"a-icon-alt\">4.2 out of 5 stars</span>,\n",
       " <span class=\"a-icon-alt\">4.1 out of 5 stars</span>,\n",
       " <span class=\"a-icon-alt\">3.5 out of 5 stars</span>,\n",
       " <span class=\"a-icon-alt\">4.1 out of 5 stars</span>,\n",
       " <span class=\"a-icon-alt\">4.1 out of 5 stars</span>,\n",
       " <span class=\"a-icon-alt\">4.1 out of 5 stars</span>,\n",
       " <span class=\"a-icon-alt\">4 Stars &amp; Up</span>,\n",
       " <span class=\"a-icon-alt\">3 Stars &amp; Up</span>,\n",
       " <span class=\"a-icon-alt\">2 Stars &amp; Up</span>,\n",
       " <span class=\"a-icon-alt\">1 Star &amp; Up</span>]"
      ]
     },
     "execution_count": 10,
     "metadata": {},
     "output_type": "execute_result"
    }
   ],
   "source": [
    "phone_rat = soup.find_all('span',class_='a-icon-alt')\n",
    "phone_rat"
   ]
  },
  {
   "cell_type": "code",
   "execution_count": 11,
   "metadata": {},
   "outputs": [
    {
     "name": "stdout",
     "output_type": "stream",
     "text": [
      "list of Rating:\n",
      "\n",
      "4.2 out of 5 stars\n",
      "\n",
      "4.2 out of 5 stars\n",
      "\n",
      "4.2 out of 5 stars\n",
      "\n",
      "4.4 out of 5 stars\n",
      "\n",
      "4.1 out of 5 stars\n",
      "\n",
      "4.2 out of 5 stars\n",
      "\n",
      "4.3 out of 5 stars\n",
      "\n",
      "4.2 out of 5 stars\n",
      "\n",
      "4.3 out of 5 stars\n",
      "\n",
      "4.2 out of 5 stars\n",
      "\n",
      "4.1 out of 5 stars\n",
      "\n",
      "4.2 out of 5 stars\n",
      "\n",
      "3.7 out of 5 stars\n",
      "\n",
      "4.2 out of 5 stars\n",
      "\n",
      "4.1 out of 5 stars\n",
      "\n",
      "4.4 out of 5 stars\n"
     ]
    }
   ],
   "source": [
    "phone_ratings =[]\n",
    "for i in phone_rat[0:16]:\n",
    "    phone_ratings.append(i.text.replace('\\n',''))\n",
    "print(\"list of Rating:\",*phone_ratings,sep=('\\n\\n')) \n"
   ]
  },
  {
   "cell_type": "code",
   "execution_count": 12,
   "metadata": {},
   "outputs": [
    {
     "data": {
      "text/plain": [
       "'https://m.media-amazon.com/images/I/71sxlhYhKWL._AC_UY218_.jpg'"
      ]
     },
     "execution_count": 12,
     "metadata": {},
     "output_type": "execute_result"
    }
   ],
   "source": [
    "phone_im=soup.find_all('div',class_=\"s-include-content-margin s-border-bottom s-latency-cf-section\")\n",
    "phone_im                             \n",
    "      \n",
    "phone_img =  soup.find('img',class_=\"s-image\",)['src']\n",
    "    \n",
    "phone_img\n",
    "\n"
   ]
  },
  {
   "cell_type": "code",
   "execution_count": 22,
   "metadata": {},
   "outputs": [
    {
     "name": "stdout",
     "output_type": "stream",
     "text": [
      "list of Rating:\n",
      "\n",
      "https://m.media-amazon.com/images/I/71sxlhYhKWL._AC_UY218_.jpg\n",
      "\n",
      "https://m.media-amazon.com/images/I/61IhTtJUXJL._AC_UY218_.jpg\n",
      "\n",
      "https://m.media-amazon.com/images/I/71A9Vo1BatL._AC_UY218_.jpg\n",
      "\n",
      "https://m.media-amazon.com/images/I/710weRkP-nL._AC_UY218_.jpg\n",
      "\n",
      "https://m.media-amazon.com/images/I/71LweCKOpFL._AC_UY218_.jpg\n",
      "\n",
      "https://m.media-amazon.com/images/I/71GQUxuSpnS._AC_UY218_.jpg\n",
      "\n",
      "https://m.media-amazon.com/images/I/71X5I1cVfbL._AC_UY218_.jpg\n",
      "\n",
      "https://m.media-amazon.com/images/I/61LHaUOhehL._AC_UY218_.jpg\n",
      "\n",
      "https://m.media-amazon.com/images/I/71-Su4Wr0HL._AC_UY218_.jpg\n",
      "\n",
      "https://m.media-amazon.com/images/I/716nHhG9SWL._AC_UY218_.jpg\n",
      "\n",
      "https://m.media-amazon.com/images/I/71-BcSc9rhS._AC_UY218_.jpg\n",
      "\n",
      "https://m.media-amazon.com/images/I/710jkZNub3S._AC_UY218_.jpg\n",
      "\n",
      "https://m.media-amazon.com/images/I/71AYb2AGHXL._AC_UY218_.jpg\n",
      "\n",
      "https://m.media-amazon.com/images/I/71sxlhYhKWL._AC_UY218_.jpg\n",
      "\n",
      "https://m.media-amazon.com/images/I/71QY6JV6FhS._AC_UY218_.jpg\n",
      "\n",
      "https://m.media-amazon.com/images/I/81EHVlbWOaS._AC_UY218_.jpg\n"
     ]
    }
   ],
   "source": [
    "phone_images =[]\n",
    "for i in phone_im[0:16]:\n",
    "    phone_images.append( i.find('img',class_='s-image')['src'])\n",
    "print(\"list of Rating:\",*phone_images,sep=('\\n\\n')) \n"
   ]
  },
  {
   "cell_type": "code",
   "execution_count": 311,
   "metadata": {},
   "outputs": [],
   "source": [
    "phone_im=soup.find_all('div',class_=\"s-include-content-margin s-border-bottom s-latency-cf-section\")\n",
    "#phone_im                             \n",
    "                            \n"
   ]
  },
  {
   "cell_type": "code",
   "execution_count": 23,
   "metadata": {},
   "outputs": [
    {
     "name": "stdout",
     "output_type": "stream",
     "text": [
      "16 16 16 16\n"
     ]
    }
   ],
   "source": [
    "print(len(phone_names),len(phone_price),len(phone_ratings),len(phone_images))"
   ]
  },
  {
   "cell_type": "code",
   "execution_count": 26,
   "metadata": {},
   "outputs": [],
   "source": [
    "import pandas as pd\n",
    "amazon = pd.DataFrame({})\n",
    "amazon['phone_name']= phone_names\n",
    "amazon['phone_price']= phone_price\n",
    "amazon['phone_rating']= phone_ratings\n",
    "amazon['phone_url'] = phone_images"
   ]
  },
  {
   "cell_type": "code",
   "execution_count": 27,
   "metadata": {},
   "outputs": [
    {
     "data": {
      "text/html": [
       "<div>\n",
       "<style scoped>\n",
       "    .dataframe tbody tr th:only-of-type {\n",
       "        vertical-align: middle;\n",
       "    }\n",
       "\n",
       "    .dataframe tbody tr th {\n",
       "        vertical-align: top;\n",
       "    }\n",
       "\n",
       "    .dataframe thead th {\n",
       "        text-align: right;\n",
       "    }\n",
       "</style>\n",
       "<table border=\"1\" class=\"dataframe\">\n",
       "  <thead>\n",
       "    <tr style=\"text-align: right;\">\n",
       "      <th></th>\n",
       "      <th>phone_name</th>\n",
       "      <th>phone_price</th>\n",
       "      <th>phone_rating</th>\n",
       "      <th>phone_url</th>\n",
       "    </tr>\n",
       "  </thead>\n",
       "  <tbody>\n",
       "    <tr>\n",
       "      <th>0</th>\n",
       "      <td>Redmi 9A (Nature Green, 2GB RAM, 32GB Storage)...</td>\n",
       "      <td>6,799</td>\n",
       "      <td>4.2 out of 5 stars</td>\n",
       "      <td>https://m.media-amazon.com/images/I/71sxlhYhKW...</td>\n",
       "    </tr>\n",
       "    <tr>\n",
       "      <th>1</th>\n",
       "      <td>Oppo A31 (Fantasy White, 6GB RAM, 128GB Storag...</td>\n",
       "      <td>11,490</td>\n",
       "      <td>4.2 out of 5 stars</td>\n",
       "      <td>https://m.media-amazon.com/images/I/61IhTtJUXJ...</td>\n",
       "    </tr>\n",
       "    <tr>\n",
       "      <th>2</th>\n",
       "      <td>Redmi 9 (Sky Blue, 4GB RAM, 64GB Storage)| 500...</td>\n",
       "      <td>8,799</td>\n",
       "      <td>4.2 out of 5 stars</td>\n",
       "      <td>https://m.media-amazon.com/images/I/71A9Vo1Bat...</td>\n",
       "    </tr>\n",
       "    <tr>\n",
       "      <th>3</th>\n",
       "      <td>Samsung Galaxy M51 (Electric Blue, 8GB RAM, 12...</td>\n",
       "      <td>22,999</td>\n",
       "      <td>4.4 out of 5 stars</td>\n",
       "      <td>https://m.media-amazon.com/images/I/710weRkP-n...</td>\n",
       "    </tr>\n",
       "    <tr>\n",
       "      <th>4</th>\n",
       "      <td>Samsung Galaxy M42 5G (Prism Dot Black, 8GB RA...</td>\n",
       "      <td>23,999</td>\n",
       "      <td>4.1 out of 5 stars</td>\n",
       "      <td>https://m.media-amazon.com/images/I/71LweCKOpF...</td>\n",
       "    </tr>\n",
       "    <tr>\n",
       "      <th>5</th>\n",
       "      <td>Samsung Galaxy M11 (Metallic Blue, 4GB RAM, 64...</td>\n",
       "      <td>8,999</td>\n",
       "      <td>4.2 out of 5 stars</td>\n",
       "      <td>https://m.media-amazon.com/images/I/71GQUxuSpn...</td>\n",
       "    </tr>\n",
       "    <tr>\n",
       "      <th>6</th>\n",
       "      <td>Redmi Note 9 (Pebble Grey, 4GB RAM 64GB Storag...</td>\n",
       "      <td>10,999</td>\n",
       "      <td>4.3 out of 5 stars</td>\n",
       "      <td>https://m.media-amazon.com/images/I/71X5I1cVfb...</td>\n",
       "    </tr>\n",
       "    <tr>\n",
       "      <th>7</th>\n",
       "      <td>Redmi 9 Power (Mighty Black, 6GB RAM, 128GB St...</td>\n",
       "      <td>12,999</td>\n",
       "      <td>4.2 out of 5 stars</td>\n",
       "      <td>https://m.media-amazon.com/images/I/61LHaUOheh...</td>\n",
       "    </tr>\n",
       "    <tr>\n",
       "      <th>8</th>\n",
       "      <td>Samsung Galaxy M31 (Ocean Blue, 8GB RAM, 128GB...</td>\n",
       "      <td>16,999</td>\n",
       "      <td>4.3 out of 5 stars</td>\n",
       "      <td>https://m.media-amazon.com/images/I/71-Su4Wr0H...</td>\n",
       "    </tr>\n",
       "    <tr>\n",
       "      <th>9</th>\n",
       "      <td>Redmi 9 (Carbon Black, 4GB RAM, 64GB Storage) ...</td>\n",
       "      <td>8,799</td>\n",
       "      <td>4.2 out of 5 stars</td>\n",
       "      <td>https://m.media-amazon.com/images/I/716nHhG9SW...</td>\n",
       "    </tr>\n",
       "    <tr>\n",
       "      <th>10</th>\n",
       "      <td>Redmi Note 10 (Aqua Green, 6GB RAM, 128GB Stor...</td>\n",
       "      <td>14,999</td>\n",
       "      <td>4.1 out of 5 stars</td>\n",
       "      <td>https://m.media-amazon.com/images/I/71-BcSc9rh...</td>\n",
       "    </tr>\n",
       "    <tr>\n",
       "      <th>11</th>\n",
       "      <td>Samsung Galaxy M11 (Black, 4GB RAM, 64GB Stora...</td>\n",
       "      <td>8,999</td>\n",
       "      <td>4.2 out of 5 stars</td>\n",
       "      <td>https://m.media-amazon.com/images/I/710jkZNub3...</td>\n",
       "    </tr>\n",
       "    <tr>\n",
       "      <th>12</th>\n",
       "      <td>Samsung Galaxy M01 Core (Black, 2GB RAM, 32GB ...</td>\n",
       "      <td>6,199</td>\n",
       "      <td>3.7 out of 5 stars</td>\n",
       "      <td>https://m.media-amazon.com/images/I/71AYb2AGHX...</td>\n",
       "    </tr>\n",
       "    <tr>\n",
       "      <th>13</th>\n",
       "      <td>Redmi 9A (Sea Blue 2GB RAM 32GB Storage) | 2GH...</td>\n",
       "      <td>6,799</td>\n",
       "      <td>4.2 out of 5 stars</td>\n",
       "      <td>https://m.media-amazon.com/images/I/71sxlhYhKW...</td>\n",
       "    </tr>\n",
       "    <tr>\n",
       "      <th>14</th>\n",
       "      <td>Redmi Note 10 (Shadow Black, 4GB RAM, 64GB Sto...</td>\n",
       "      <td>12,499</td>\n",
       "      <td>4.1 out of 5 stars</td>\n",
       "      <td>https://m.media-amazon.com/images/I/71QY6JV6Fh...</td>\n",
       "    </tr>\n",
       "    <tr>\n",
       "      <th>15</th>\n",
       "      <td>TECNO Spark 7T(Magnet Black, 4GB RAM,64GB Stor...</td>\n",
       "      <td>8,999</td>\n",
       "      <td>4.4 out of 5 stars</td>\n",
       "      <td>https://m.media-amazon.com/images/I/81EHVlbWOa...</td>\n",
       "    </tr>\n",
       "  </tbody>\n",
       "</table>\n",
       "</div>"
      ],
      "text/plain": [
       "                                           phone_name phone_price  \\\n",
       "0   Redmi 9A (Nature Green, 2GB RAM, 32GB Storage)...       6,799   \n",
       "1   Oppo A31 (Fantasy White, 6GB RAM, 128GB Storag...      11,490   \n",
       "2   Redmi 9 (Sky Blue, 4GB RAM, 64GB Storage)| 500...       8,799   \n",
       "3   Samsung Galaxy M51 (Electric Blue, 8GB RAM, 12...      22,999   \n",
       "4   Samsung Galaxy M42 5G (Prism Dot Black, 8GB RA...      23,999   \n",
       "5   Samsung Galaxy M11 (Metallic Blue, 4GB RAM, 64...       8,999   \n",
       "6   Redmi Note 9 (Pebble Grey, 4GB RAM 64GB Storag...      10,999   \n",
       "7   Redmi 9 Power (Mighty Black, 6GB RAM, 128GB St...      12,999   \n",
       "8   Samsung Galaxy M31 (Ocean Blue, 8GB RAM, 128GB...      16,999   \n",
       "9   Redmi 9 (Carbon Black, 4GB RAM, 64GB Storage) ...       8,799   \n",
       "10  Redmi Note 10 (Aqua Green, 6GB RAM, 128GB Stor...      14,999   \n",
       "11  Samsung Galaxy M11 (Black, 4GB RAM, 64GB Stora...       8,999   \n",
       "12  Samsung Galaxy M01 Core (Black, 2GB RAM, 32GB ...       6,199   \n",
       "13  Redmi 9A (Sea Blue 2GB RAM 32GB Storage) | 2GH...       6,799   \n",
       "14  Redmi Note 10 (Shadow Black, 4GB RAM, 64GB Sto...      12,499   \n",
       "15  TECNO Spark 7T(Magnet Black, 4GB RAM,64GB Stor...       8,999   \n",
       "\n",
       "          phone_rating                                          phone_url  \n",
       "0   4.2 out of 5 stars  https://m.media-amazon.com/images/I/71sxlhYhKW...  \n",
       "1   4.2 out of 5 stars  https://m.media-amazon.com/images/I/61IhTtJUXJ...  \n",
       "2   4.2 out of 5 stars  https://m.media-amazon.com/images/I/71A9Vo1Bat...  \n",
       "3   4.4 out of 5 stars  https://m.media-amazon.com/images/I/710weRkP-n...  \n",
       "4   4.1 out of 5 stars  https://m.media-amazon.com/images/I/71LweCKOpF...  \n",
       "5   4.2 out of 5 stars  https://m.media-amazon.com/images/I/71GQUxuSpn...  \n",
       "6   4.3 out of 5 stars  https://m.media-amazon.com/images/I/71X5I1cVfb...  \n",
       "7   4.2 out of 5 stars  https://m.media-amazon.com/images/I/61LHaUOheh...  \n",
       "8   4.3 out of 5 stars  https://m.media-amazon.com/images/I/71-Su4Wr0H...  \n",
       "9   4.2 out of 5 stars  https://m.media-amazon.com/images/I/716nHhG9SW...  \n",
       "10  4.1 out of 5 stars  https://m.media-amazon.com/images/I/71-BcSc9rh...  \n",
       "11  4.2 out of 5 stars  https://m.media-amazon.com/images/I/710jkZNub3...  \n",
       "12  3.7 out of 5 stars  https://m.media-amazon.com/images/I/71AYb2AGHX...  \n",
       "13  4.2 out of 5 stars  https://m.media-amazon.com/images/I/71sxlhYhKW...  \n",
       "14  4.1 out of 5 stars  https://m.media-amazon.com/images/I/71QY6JV6Fh...  \n",
       "15  4.4 out of 5 stars  https://m.media-amazon.com/images/I/81EHVlbWOa...  "
      ]
     },
     "execution_count": 27,
     "metadata": {},
     "output_type": "execute_result"
    }
   ],
   "source": [
    "amazon"
   ]
  },
  {
   "cell_type": "markdown",
   "metadata": {},
   "source": [
    "#  Write a python program to scrape fresher job listings from ‘https://internshala.com/’. It should include job title, company name, CTC, and apply date. "
   ]
  },
  {
   "cell_type": "code",
   "execution_count": 316,
   "metadata": {},
   "outputs": [],
   "source": [
    "url25 = \"https://internshala.com/fresher-jobs\"\n",
    "r = requests.get(url25)\n",
    "data = r.content\n",
    "soup = BeautifulSoup(data,'html.parser')\n",
    "#print(soup.prettify)\n"
   ]
  },
  {
   "cell_type": "code",
   "execution_count": 317,
   "metadata": {},
   "outputs": [],
   "source": [
    "titles = soup.find_all('div',class_=\"heading_4_5 profile\")\n",
    "#print(titles)\n"
   ]
  },
  {
   "cell_type": "code",
   "execution_count": 318,
   "metadata": {},
   "outputs": [
    {
     "name": "stdout",
     "output_type": "stream",
     "text": [
      "list of job titles:\n",
      "\n",
      "Associate Software Developer \n",
      "\n",
      "Accounting Assistant \n",
      "\n",
      "Software Engineer \n",
      "\n",
      "Business Development Manager \n",
      "\n",
      "Business Development Executive \n",
      "\n",
      "Product Developer - Mathematics \n",
      "\n",
      "Sales Development Representative \n",
      "\n",
      "Full Stack Engineer \n",
      "\n",
      "Junior ReactJS Developer \n",
      "\n",
      "Marketing Manager \n",
      "\n",
      "Product Marketing Associate \n",
      "\n",
      "Administration Associate \n",
      "\n",
      "Recruiter \n",
      "\n",
      "Associate Software Developer \n",
      "\n",
      "Project Coordinator \n",
      "\n",
      "Web Developer \n",
      "\n",
      "Software Engineer Trainee \n",
      "\n",
      "Business Development Specialist (Sales & Marketing) \n",
      "\n",
      "Business Development Executive \n",
      "\n",
      "Associate Front End Developer \n",
      "\n",
      "Corporate Sales Executive \n",
      "\n",
      "Associate Software Developer (Full-Stack - React And Node) \n",
      "\n",
      "Customer Relationship Specialist \n",
      "\n",
      "Associate Editor Engagement \n",
      "\n",
      "Management Consultant Associate \n",
      "\n",
      "Web Analytics Developer \n",
      "\n",
      "Junior Social Media Marketing Manager \n",
      "\n",
      "Junior Social Media Marketing Associate \n",
      "\n",
      "Business Development Manager (Digital Marketing Sales) \n",
      "\n",
      "Business Development Executive \n",
      "\n",
      "Accountant \n",
      "\n",
      "Research Associate \n",
      "\n",
      "Assistant Coordinator - Tender Department \n",
      "\n",
      "Customer Relationship Manager (Publishing Consultant) \n",
      "\n",
      "Executive Assistant To Director \n",
      "\n",
      "Learning Consultant - Sales \n",
      "\n",
      "School/Teacher Consultant \n",
      "\n",
      "Software Developer \n",
      "\n",
      "Business Development Executive (Inside Sales) \n",
      "\n",
      "Web Developer \n"
     ]
    }
   ],
   "source": [
    "job_titles =[]\n",
    "for i in titles:\n",
    "    job_titles.append(i.text.replace('\\n',''))\n",
    "print(\"list of job titles:\",*job_titles,sep=('\\n\\n')) \n"
   ]
  },
  {
   "cell_type": "code",
   "execution_count": 319,
   "metadata": {},
   "outputs": [],
   "source": [
    "names = soup.find_all('div',class_=\"heading_6 company_name\")\n",
    "#print(names)\n"
   ]
  },
  {
   "cell_type": "code",
   "execution_count": 320,
   "metadata": {},
   "outputs": [
    {
     "name": "stdout",
     "output_type": "stream",
     "text": [
      "list of company names:\n",
      "\n",
      "                        White Blink                    \n",
      "\n",
      "                        Wono Inc                    \n",
      "\n",
      "                        Wono Inc                    \n",
      "\n",
      "                        Wono Inc                    \n",
      "\n",
      "                        Emertxe Information Technologies                    \n",
      "\n",
      "                        Open Door Education                    \n",
      "\n",
      "                        Content Beta                    \n",
      "\n",
      "                        Softway Solutions Private Limited                    \n",
      "\n",
      "                        DeepThought Edutech Ventures Private Limited                    \n",
      "\n",
      "                        Saltoro Coffee Roasters                    \n",
      "\n",
      "                        WebMOBI                    \n",
      "\n",
      "                        Global Sun                    \n",
      "\n",
      "                        Radish Consultants Private Limited                    \n",
      "\n",
      "                        Medico Healthcare Services & Technologies                    \n",
      "\n",
      "                        Edupixels                    \n",
      "\n",
      "                        Manufac Analytics Private Limited                    \n",
      "\n",
      "                        Swabhav Techlabs                    \n",
      "\n",
      "                        Claraeon Learning Private Limited                    \n",
      "\n",
      "                        Picostone                    \n",
      "\n",
      "                        AIMonk Labs Technology Limited                    \n",
      "\n",
      "                        369 Zoss Waters                    \n",
      "\n",
      "                        SleekSky LLC                    \n",
      "\n",
      "                        InPhase Power Technologies                    \n",
      "\n",
      "                        Cactus Communications Private Limited                    \n",
      "\n",
      "                        StrategyCo.Global                    \n",
      "\n",
      "                        DataVinci Private Limited                    \n",
      "\n",
      "                        The Test Tribe                    \n",
      "\n",
      "                        Glu Studios                    \n",
      "\n",
      "                        Graygraph Technologies LLC                    \n",
      "\n",
      "                        BookLeaf Publishing                    \n",
      "\n",
      "                        Ravi Ladia & Co                    \n",
      "\n",
      "                        Market Vistas Consumer Insights                    \n",
      "\n",
      "                        Global Source Trading LLC                    \n",
      "\n",
      "                        Blue Rose Publishers                    \n",
      "\n",
      "                        Best Roadways Limited                    \n",
      "\n",
      "                        Geekster                    \n",
      "\n",
      "                        InfyBytes AI Labs Private Limited                    \n",
      "\n",
      "                        Moxie.xyz                    \n",
      "\n",
      "                        GREedge                    \n",
      "\n",
      "                        Fullmoon Outdoor Web Solutions                    \n"
     ]
    }
   ],
   "source": [
    "company_names =[]\n",
    "for i in names:\n",
    "    company_names.append(i.text.replace('\\n',''))\n",
    "print(\"list of company names:\",*company_names,sep=('\\n\\n')) \n"
   ]
  },
  {
   "cell_type": "code",
   "execution_count": 321,
   "metadata": {},
   "outputs": [],
   "source": [
    "\n",
    "sad = soup.find('div',class_='item_body',id=False).text.strip()\n",
    "#print(sad)\n",
    "\n",
    "salary = soup.find('div',class_='container-fluid individual_internship visibilityTrackerItem')\n",
    "#salary\n"
   ]
  },
  {
   "cell_type": "code",
   "execution_count": 78,
   "metadata": {},
   "outputs": [
    {
     "data": {
      "text/html": [
       "<div>\n",
       "<style scoped>\n",
       "    .dataframe tbody tr th:only-of-type {\n",
       "        vertical-align: middle;\n",
       "    }\n",
       "\n",
       "    .dataframe tbody tr th {\n",
       "        vertical-align: top;\n",
       "    }\n",
       "\n",
       "    .dataframe thead th {\n",
       "        text-align: right;\n",
       "    }\n",
       "</style>\n",
       "<table border=\"1\" class=\"dataframe\">\n",
       "  <thead>\n",
       "    <tr style=\"text-align: right;\">\n",
       "      <th></th>\n",
       "      <th>Category</th>\n",
       "      <th>company_name</th>\n",
       "      <th>salary</th>\n",
       "    </tr>\n",
       "  </thead>\n",
       "  <tbody>\n",
       "    <tr>\n",
       "      <th>0</th>\n",
       "      <td>Product Developer - Mathematics</td>\n",
       "      <td>Open Door Education</td>\n",
       "      <td>7 - 8 LPA</td>\n",
       "    </tr>\n",
       "    <tr>\n",
       "      <th>1</th>\n",
       "      <td>Sales Development Representative</td>\n",
       "      <td>Content Beta</td>\n",
       "      <td>3 - 4 LPA</td>\n",
       "    </tr>\n",
       "    <tr>\n",
       "      <th>2</th>\n",
       "      <td>Full Stack Engineer</td>\n",
       "      <td>Softway Solutions Private Limited</td>\n",
       "      <td>5.5 - 9 LPA</td>\n",
       "    </tr>\n",
       "    <tr>\n",
       "      <th>3</th>\n",
       "      <td>Junior ReactJS Developer</td>\n",
       "      <td>DeepThought Edutech Ventures Private Limited</td>\n",
       "      <td>3 - 5 LPA</td>\n",
       "    </tr>\n",
       "    <tr>\n",
       "      <th>4</th>\n",
       "      <td>Marketing Manager</td>\n",
       "      <td>Saltoro Coffee Roasters</td>\n",
       "      <td>3.2 - 3.5 LPA</td>\n",
       "    </tr>\n",
       "    <tr>\n",
       "      <th>5</th>\n",
       "      <td>Product Marketing Associate</td>\n",
       "      <td>WebMOBI</td>\n",
       "      <td>3 LPA</td>\n",
       "    </tr>\n",
       "    <tr>\n",
       "      <th>6</th>\n",
       "      <td>Administration Associate</td>\n",
       "      <td>Global Sun</td>\n",
       "      <td>3 - 3.2 LPA</td>\n",
       "    </tr>\n",
       "    <tr>\n",
       "      <th>7</th>\n",
       "      <td>Recruiter</td>\n",
       "      <td>Radish Consultants Private Limited</td>\n",
       "      <td>3 - 5 LPA</td>\n",
       "    </tr>\n",
       "    <tr>\n",
       "      <th>8</th>\n",
       "      <td>Associate Software Developer</td>\n",
       "      <td>Medico Healthcare Services &amp; Technologies</td>\n",
       "      <td>3 - 3.2 LPA</td>\n",
       "    </tr>\n",
       "    <tr>\n",
       "      <th>9</th>\n",
       "      <td>Project Coordinator</td>\n",
       "      <td>Edupixels</td>\n",
       "      <td>3 LPA</td>\n",
       "    </tr>\n",
       "    <tr>\n",
       "      <th>10</th>\n",
       "      <td>Web Developer</td>\n",
       "      <td>Manufac Analytics Private Limited</td>\n",
       "      <td>3 - 4 LPA</td>\n",
       "    </tr>\n",
       "    <tr>\n",
       "      <th>11</th>\n",
       "      <td>Software Engineer Trainee</td>\n",
       "      <td>Swabhav Techlabs</td>\n",
       "      <td>3 - 3.5 LPA</td>\n",
       "    </tr>\n",
       "    <tr>\n",
       "      <th>12</th>\n",
       "      <td>Business Development Specialist (Sales &amp; Marke...</td>\n",
       "      <td>Claraeon Learning Private Limited</td>\n",
       "      <td>3 LPA</td>\n",
       "    </tr>\n",
       "    <tr>\n",
       "      <th>13</th>\n",
       "      <td>Business Development Executive</td>\n",
       "      <td>Picostone</td>\n",
       "      <td>3 - 6.5 LPA</td>\n",
       "    </tr>\n",
       "    <tr>\n",
       "      <th>14</th>\n",
       "      <td>Associate Front End Developer</td>\n",
       "      <td>AIMonk Labs Technology Limited</td>\n",
       "      <td>6 - 7 LPA</td>\n",
       "    </tr>\n",
       "    <tr>\n",
       "      <th>15</th>\n",
       "      <td>Corporate Sales Executive</td>\n",
       "      <td>369 Zoss Waters</td>\n",
       "      <td>3 - 5 LPA</td>\n",
       "    </tr>\n",
       "    <tr>\n",
       "      <th>16</th>\n",
       "      <td>Associate Software Developer (Full-Stack - Rea...</td>\n",
       "      <td>SleekSky LLC</td>\n",
       "      <td>4 LPA</td>\n",
       "    </tr>\n",
       "    <tr>\n",
       "      <th>17</th>\n",
       "      <td>Customer Relationship Specialist</td>\n",
       "      <td>InPhase Power Technologies</td>\n",
       "      <td>3 - 3.5 LPA</td>\n",
       "    </tr>\n",
       "    <tr>\n",
       "      <th>18</th>\n",
       "      <td>Associate Editor Engagement</td>\n",
       "      <td>Cactus Communications Private Limited</td>\n",
       "      <td>3 - 4 LPA</td>\n",
       "    </tr>\n",
       "    <tr>\n",
       "      <th>19</th>\n",
       "      <td>Management Consultant Associate</td>\n",
       "      <td>StrategyCo.Global</td>\n",
       "      <td>4.5 - 7 LPA</td>\n",
       "    </tr>\n",
       "    <tr>\n",
       "      <th>20</th>\n",
       "      <td>Web Analytics Developer</td>\n",
       "      <td>DataVinci Private Limited</td>\n",
       "      <td>4.99 - 5 LPA</td>\n",
       "    </tr>\n",
       "    <tr>\n",
       "      <th>21</th>\n",
       "      <td>Junior Social Media Marketing Manager</td>\n",
       "      <td>The Test Tribe</td>\n",
       "      <td>3 - 4 LPA</td>\n",
       "    </tr>\n",
       "    <tr>\n",
       "      <th>22</th>\n",
       "      <td>Junior Social Media Marketing Associate</td>\n",
       "      <td>Glu Studios</td>\n",
       "      <td>3 - 3.6 LPA</td>\n",
       "    </tr>\n",
       "    <tr>\n",
       "      <th>23</th>\n",
       "      <td>Business Development Manager (Digital Marketin...</td>\n",
       "      <td>Graygraph Technologies LLC</td>\n",
       "      <td>3 - 4.5 LPA</td>\n",
       "    </tr>\n",
       "    <tr>\n",
       "      <th>24</th>\n",
       "      <td>Business Development Executive</td>\n",
       "      <td>BookLeaf Publishing</td>\n",
       "      <td>3 - 3.6 LPA</td>\n",
       "    </tr>\n",
       "    <tr>\n",
       "      <th>25</th>\n",
       "      <td>Accountant</td>\n",
       "      <td>Ravi Ladia &amp; Co</td>\n",
       "      <td>3 LPA</td>\n",
       "    </tr>\n",
       "    <tr>\n",
       "      <th>26</th>\n",
       "      <td>Research Associate</td>\n",
       "      <td>Market Vistas Consumer Insights</td>\n",
       "      <td>3 - 3.25 LPA</td>\n",
       "    </tr>\n",
       "    <tr>\n",
       "      <th>27</th>\n",
       "      <td>Assistant Coordinator - Tender Department</td>\n",
       "      <td>Global Source Trading LLC</td>\n",
       "      <td>3 LPA</td>\n",
       "    </tr>\n",
       "    <tr>\n",
       "      <th>28</th>\n",
       "      <td>Customer Relationship Manager (Publishing Cons...</td>\n",
       "      <td>Blue Rose Publishers</td>\n",
       "      <td>3 - 3.5 LPA</td>\n",
       "    </tr>\n",
       "    <tr>\n",
       "      <th>29</th>\n",
       "      <td>Executive Assistant To Director</td>\n",
       "      <td>Best Roadways Limited</td>\n",
       "      <td>3 LPA</td>\n",
       "    </tr>\n",
       "    <tr>\n",
       "      <th>30</th>\n",
       "      <td>Learning Consultant - Sales</td>\n",
       "      <td>Geekster</td>\n",
       "      <td>3 - 3.5 LPA</td>\n",
       "    </tr>\n",
       "    <tr>\n",
       "      <th>31</th>\n",
       "      <td>School/Teacher Consultant</td>\n",
       "      <td>InfyBytes AI Labs Private Limited</td>\n",
       "      <td>3 - 4 LPA</td>\n",
       "    </tr>\n",
       "    <tr>\n",
       "      <th>32</th>\n",
       "      <td>Software Developer</td>\n",
       "      <td>Moxie.xyz</td>\n",
       "      <td>9 LPA</td>\n",
       "    </tr>\n",
       "    <tr>\n",
       "      <th>33</th>\n",
       "      <td>Business Development Executive (Inside Sales)</td>\n",
       "      <td>GREedge</td>\n",
       "      <td>3.75 LPA</td>\n",
       "    </tr>\n",
       "    <tr>\n",
       "      <th>34</th>\n",
       "      <td>Web Developer</td>\n",
       "      <td>Fullmoon Outdoor Web Solutions</td>\n",
       "      <td>4 - 4.2 LPA</td>\n",
       "    </tr>\n",
       "    <tr>\n",
       "      <th>35</th>\n",
       "      <td>Order Processor</td>\n",
       "      <td>InspectHOA</td>\n",
       "      <td>3 LPA</td>\n",
       "    </tr>\n",
       "    <tr>\n",
       "      <th>36</th>\n",
       "      <td>Full Stack Developer</td>\n",
       "      <td>Nikulsan Technologies Private Limited</td>\n",
       "      <td>3.5 - 5 LPA</td>\n",
       "    </tr>\n",
       "    <tr>\n",
       "      <th>37</th>\n",
       "      <td>Associate Software Developer</td>\n",
       "      <td>IQGateway</td>\n",
       "      <td>3.6 - 10 LPA</td>\n",
       "    </tr>\n",
       "    <tr>\n",
       "      <th>38</th>\n",
       "      <td>Reactjs Developer</td>\n",
       "      <td>Startxlabs Technologies Private Limited</td>\n",
       "      <td>3 - 4 LPA</td>\n",
       "    </tr>\n",
       "    <tr>\n",
       "      <th>39</th>\n",
       "      <td>Full Stack Developer</td>\n",
       "      <td>RavGins International Private Limited (Wobb.ai)</td>\n",
       "      <td>3.3 - 4 LPA</td>\n",
       "    </tr>\n",
       "  </tbody>\n",
       "</table>\n",
       "</div>"
      ],
      "text/plain": [
       "                                             Category  \\\n",
       "0                     Product Developer - Mathematics   \n",
       "1                    Sales Development Representative   \n",
       "2                                 Full Stack Engineer   \n",
       "3                            Junior ReactJS Developer   \n",
       "4                                   Marketing Manager   \n",
       "5                         Product Marketing Associate   \n",
       "6                            Administration Associate   \n",
       "7                                           Recruiter   \n",
       "8                        Associate Software Developer   \n",
       "9                                 Project Coordinator   \n",
       "10                                      Web Developer   \n",
       "11                          Software Engineer Trainee   \n",
       "12  Business Development Specialist (Sales & Marke...   \n",
       "13                     Business Development Executive   \n",
       "14                      Associate Front End Developer   \n",
       "15                          Corporate Sales Executive   \n",
       "16  Associate Software Developer (Full-Stack - Rea...   \n",
       "17                   Customer Relationship Specialist   \n",
       "18                        Associate Editor Engagement   \n",
       "19                    Management Consultant Associate   \n",
       "20                            Web Analytics Developer   \n",
       "21              Junior Social Media Marketing Manager   \n",
       "22            Junior Social Media Marketing Associate   \n",
       "23  Business Development Manager (Digital Marketin...   \n",
       "24                     Business Development Executive   \n",
       "25                                         Accountant   \n",
       "26                                 Research Associate   \n",
       "27          Assistant Coordinator - Tender Department   \n",
       "28  Customer Relationship Manager (Publishing Cons...   \n",
       "29                    Executive Assistant To Director   \n",
       "30                        Learning Consultant - Sales   \n",
       "31                          School/Teacher Consultant   \n",
       "32                                 Software Developer   \n",
       "33      Business Development Executive (Inside Sales)   \n",
       "34                                      Web Developer   \n",
       "35                                    Order Processor   \n",
       "36                               Full Stack Developer   \n",
       "37                       Associate Software Developer   \n",
       "38                                  Reactjs Developer   \n",
       "39                               Full Stack Developer   \n",
       "\n",
       "                                       company_name         salary  \n",
       "0                               Open Door Education      7 - 8 LPA  \n",
       "1                                      Content Beta      3 - 4 LPA  \n",
       "2                 Softway Solutions Private Limited    5.5 - 9 LPA  \n",
       "3      DeepThought Edutech Ventures Private Limited      3 - 5 LPA  \n",
       "4                           Saltoro Coffee Roasters  3.2 - 3.5 LPA  \n",
       "5                                           WebMOBI          3 LPA  \n",
       "6                                        Global Sun    3 - 3.2 LPA  \n",
       "7                Radish Consultants Private Limited      3 - 5 LPA  \n",
       "8         Medico Healthcare Services & Technologies    3 - 3.2 LPA  \n",
       "9                                         Edupixels          3 LPA  \n",
       "10                Manufac Analytics Private Limited      3 - 4 LPA  \n",
       "11                                 Swabhav Techlabs    3 - 3.5 LPA  \n",
       "12                Claraeon Learning Private Limited          3 LPA  \n",
       "13                                        Picostone    3 - 6.5 LPA  \n",
       "14                   AIMonk Labs Technology Limited      6 - 7 LPA  \n",
       "15                                  369 Zoss Waters      3 - 5 LPA  \n",
       "16                                     SleekSky LLC          4 LPA  \n",
       "17                       InPhase Power Technologies    3 - 3.5 LPA  \n",
       "18            Cactus Communications Private Limited      3 - 4 LPA  \n",
       "19                                StrategyCo.Global    4.5 - 7 LPA  \n",
       "20                        DataVinci Private Limited   4.99 - 5 LPA  \n",
       "21                                   The Test Tribe      3 - 4 LPA  \n",
       "22                                      Glu Studios    3 - 3.6 LPA  \n",
       "23                       Graygraph Technologies LLC    3 - 4.5 LPA  \n",
       "24                              BookLeaf Publishing    3 - 3.6 LPA  \n",
       "25                                  Ravi Ladia & Co          3 LPA  \n",
       "26                  Market Vistas Consumer Insights   3 - 3.25 LPA  \n",
       "27                        Global Source Trading LLC          3 LPA  \n",
       "28                             Blue Rose Publishers    3 - 3.5 LPA  \n",
       "29                            Best Roadways Limited          3 LPA  \n",
       "30                                         Geekster    3 - 3.5 LPA  \n",
       "31                InfyBytes AI Labs Private Limited      3 - 4 LPA  \n",
       "32                                        Moxie.xyz          9 LPA  \n",
       "33                                          GREedge       3.75 LPA  \n",
       "34                   Fullmoon Outdoor Web Solutions    4 - 4.2 LPA  \n",
       "35                                       InspectHOA          3 LPA  \n",
       "36            Nikulsan Technologies Private Limited    3.5 - 5 LPA  \n",
       "37                                        IQGateway   3.6 - 10 LPA  \n",
       "38          Startxlabs Technologies Private Limited      3 - 4 LPA  \n",
       "39  RavGins International Private Limited (Wobb.ai)    3.3 - 4 LPA  "
      ]
     },
     "execution_count": 78,
     "metadata": {},
     "output_type": "execute_result"
    }
   ],
   "source": [
    "import pandas as pd\n",
    "url300 = 'https://internshala.com/fresher-jobs'\n",
    "\n",
    "#data:\n",
    "data = {'Category':[],'company_name':[],'salary':[]}\n",
    "    \n",
    "r = requests.get(url300)\n",
    "data1 = r.content\n",
    "soup = BeautifulSoup(data1,'html.parser')\n",
    "posts = soup.find_all('div',class_='container-fluid individual_internship visibilityTrackerItem')\n",
    "for i in posts:\n",
    "    data['Category'].append(i.find('div',class_='heading_4_5').text.strip())\n",
    "    data['company_name'].append(i.find('div',class_='heading_6 company_name').text.strip())\n",
    "    data['salary'].append(i.find('div',class_='item_body',id=False).text.strip())\n",
    "          \n",
    "    \n",
    "    # create dataframe \n",
    "df = pd.DataFrame(data)\n",
    "df   \n",
    "   "
   ]
  },
  {
   "cell_type": "markdown",
   "metadata": {},
   "source": [
    " # Write a python program to extract information about the local weather from the National Weather Service website of USA, https://www.weather.gov/ for the city, San Francisco. You need to extract data about 7 day extended forecast display for the city. The data should include period, short description, temperature and description. "
   ]
  },
  {
   "cell_type": "code",
   "execution_count": 322,
   "metadata": {},
   "outputs": [],
   "source": [
    "url30 = \" https://forecast.weather.gov/MapClick.php?textField1=37.78&textField2=-122.42#.YM2nJWgzY2w\"\n",
    "r = requests.get(url30)\n",
    "data = r.content\n",
    "soup = BeautifulSoup(data,'html.parser')\n",
    "#print(soup.prettify)\n"
   ]
  },
  {
   "cell_type": "code",
   "execution_count": 198,
   "metadata": {},
   "outputs": [
    {
     "data": {
      "text/plain": [
       "[<p class=\"temp temp-low\">Low: 57 °F</p>,\n",
       " <p class=\"temp temp-high\">High: 69 °F</p>,\n",
       " <p class=\"temp temp-low\">Low: 55 °F</p>,\n",
       " <p class=\"temp temp-high\">High: 68 °F</p>,\n",
       " <p class=\"temp temp-low\">Low: 56 °F</p>,\n",
       " <p class=\"temp temp-high\">High: 68 °F</p>,\n",
       " <p class=\"temp temp-low\">Low: 56 °F</p>,\n",
       " <p class=\"temp temp-high\">High: 72 °F</p>,\n",
       " <p class=\"temp temp-low\">Low: 56 °F</p>]"
      ]
     },
     "execution_count": 198,
     "metadata": {},
     "output_type": "execute_result"
    }
   ],
   "source": [
    "\n",
    "perios = soup.find_all('p',class_=\"period-name\")\n",
    "perios\n",
    "desc = soup.find_all('p',class_=\"short-desc\")\n",
    "desc\n",
    "temp = soup.find_all('p',class_=\"temp\")\n",
    "temp\n",
    "\n"
   ]
  },
  {
   "cell_type": "code",
   "execution_count": 199,
   "metadata": {},
   "outputs": [
    {
     "name": "stdout",
     "output_type": "stream",
     "text": [
      "list of forecasting:\n",
      "\n",
      "Overnight\n",
      "\n",
      "Wednesday\n",
      "\n",
      "WednesdayNight\n",
      "\n",
      "Thursday\n",
      "\n",
      "ThursdayNight\n",
      "\n",
      "Friday\n",
      "\n",
      "FridayNight\n",
      "\n",
      "Saturday\n",
      "\n",
      "SaturdayNight\n"
     ]
    }
   ],
   "source": [
    "weather_period =[]\n",
    "for i in perios:\n",
    "    weather_period.append(i.text.replace('\\n',''))\n",
    "print(\"list of forecasting:\",*weather_period,sep=('\\n\\n')) \n"
   ]
  },
  {
   "cell_type": "code",
   "execution_count": 200,
   "metadata": {},
   "outputs": [
    {
     "name": "stdout",
     "output_type": "stream",
     "text": [
      "list of description:\n",
      "\n",
      "Mostly Cloudy\n",
      "\n",
      "BecomingSunny\n",
      "\n",
      "IncreasingClouds\n",
      "\n",
      "BecomingSunny\n",
      "\n",
      "Partly Cloudyand Breezythen MostlyCloudy\n",
      "\n",
      "Partly Sunnythen Sunnyand Breezy\n",
      "\n",
      "Mostly Cloudy\n",
      "\n",
      "Mostly Sunny\n",
      "\n",
      "Partly Cloudy\n"
     ]
    }
   ],
   "source": [
    "weather_desc =[]\n",
    "for i in desc:\n",
    "    weather_desc.append(i.text.replace('\\n',''))\n",
    "print(\"list of description:\",*weather_desc,sep=('\\n\\n')) \n"
   ]
  },
  {
   "cell_type": "code",
   "execution_count": 201,
   "metadata": {},
   "outputs": [
    {
     "name": "stdout",
     "output_type": "stream",
     "text": [
      "list of temperature:\n",
      "\n",
      "Low: 57 °F\n",
      "\n",
      "High: 69 °F\n",
      "\n",
      "Low: 55 °F\n",
      "\n",
      "High: 68 °F\n",
      "\n",
      "Low: 56 °F\n",
      "\n",
      "High: 68 °F\n",
      "\n",
      "Low: 56 °F\n",
      "\n",
      "High: 72 °F\n",
      "\n",
      "Low: 56 °F\n"
     ]
    }
   ],
   "source": [
    "weather_temp =[]\n",
    "for i in temp:\n",
    "    weather_temp.append(i.text.replace('\\n',''))\n",
    "print(\"list of temperature:\",*weather_temp,sep=('\\n\\n')) \n"
   ]
  },
  {
   "cell_type": "code",
   "execution_count": null,
   "metadata": {},
   "outputs": [],
   "source": []
  },
  {
   "cell_type": "code",
   "execution_count": 202,
   "metadata": {},
   "outputs": [
    {
     "name": "stdout",
     "output_type": "stream",
     "text": [
      "9 9 9\n"
     ]
    }
   ],
   "source": [
    "print(len(weather_period),len(weather_temp),len(weather_desc))"
   ]
  },
  {
   "cell_type": "code",
   "execution_count": 203,
   "metadata": {},
   "outputs": [],
   "source": [
    "forecas= pd.DataFrame({})\n",
    "forecas['Period_time']= weather_period\n",
    "forecas['Temperature']= weather_temp\n",
    "forecas['Description']= weather_desc"
   ]
  },
  {
   "cell_type": "code",
   "execution_count": 204,
   "metadata": {},
   "outputs": [
    {
     "data": {
      "text/html": [
       "<div>\n",
       "<style scoped>\n",
       "    .dataframe tbody tr th:only-of-type {\n",
       "        vertical-align: middle;\n",
       "    }\n",
       "\n",
       "    .dataframe tbody tr th {\n",
       "        vertical-align: top;\n",
       "    }\n",
       "\n",
       "    .dataframe thead th {\n",
       "        text-align: right;\n",
       "    }\n",
       "</style>\n",
       "<table border=\"1\" class=\"dataframe\">\n",
       "  <thead>\n",
       "    <tr style=\"text-align: right;\">\n",
       "      <th></th>\n",
       "      <th>Period_time</th>\n",
       "      <th>Temperature</th>\n",
       "      <th>Description</th>\n",
       "    </tr>\n",
       "  </thead>\n",
       "  <tbody>\n",
       "    <tr>\n",
       "      <th>0</th>\n",
       "      <td>Overnight</td>\n",
       "      <td>Low: 57 °F</td>\n",
       "      <td>Mostly Cloudy</td>\n",
       "    </tr>\n",
       "    <tr>\n",
       "      <th>1</th>\n",
       "      <td>Wednesday</td>\n",
       "      <td>High: 69 °F</td>\n",
       "      <td>BecomingSunny</td>\n",
       "    </tr>\n",
       "    <tr>\n",
       "      <th>2</th>\n",
       "      <td>WednesdayNight</td>\n",
       "      <td>Low: 55 °F</td>\n",
       "      <td>IncreasingClouds</td>\n",
       "    </tr>\n",
       "    <tr>\n",
       "      <th>3</th>\n",
       "      <td>Thursday</td>\n",
       "      <td>High: 68 °F</td>\n",
       "      <td>BecomingSunny</td>\n",
       "    </tr>\n",
       "    <tr>\n",
       "      <th>4</th>\n",
       "      <td>ThursdayNight</td>\n",
       "      <td>Low: 56 °F</td>\n",
       "      <td>Partly Cloudyand Breezythen MostlyCloudy</td>\n",
       "    </tr>\n",
       "    <tr>\n",
       "      <th>5</th>\n",
       "      <td>Friday</td>\n",
       "      <td>High: 68 °F</td>\n",
       "      <td>Partly Sunnythen Sunnyand Breezy</td>\n",
       "    </tr>\n",
       "    <tr>\n",
       "      <th>6</th>\n",
       "      <td>FridayNight</td>\n",
       "      <td>Low: 56 °F</td>\n",
       "      <td>Mostly Cloudy</td>\n",
       "    </tr>\n",
       "    <tr>\n",
       "      <th>7</th>\n",
       "      <td>Saturday</td>\n",
       "      <td>High: 72 °F</td>\n",
       "      <td>Mostly Sunny</td>\n",
       "    </tr>\n",
       "    <tr>\n",
       "      <th>8</th>\n",
       "      <td>SaturdayNight</td>\n",
       "      <td>Low: 56 °F</td>\n",
       "      <td>Partly Cloudy</td>\n",
       "    </tr>\n",
       "  </tbody>\n",
       "</table>\n",
       "</div>"
      ],
      "text/plain": [
       "      Period_time  Temperature                               Description\n",
       "0       Overnight   Low: 57 °F                             Mostly Cloudy\n",
       "1       Wednesday  High: 69 °F                             BecomingSunny\n",
       "2  WednesdayNight   Low: 55 °F                          IncreasingClouds\n",
       "3        Thursday  High: 68 °F                             BecomingSunny\n",
       "4   ThursdayNight   Low: 56 °F  Partly Cloudyand Breezythen MostlyCloudy\n",
       "5          Friday  High: 68 °F          Partly Sunnythen Sunnyand Breezy\n",
       "6     FridayNight   Low: 56 °F                             Mostly Cloudy\n",
       "7        Saturday  High: 72 °F                              Mostly Sunny\n",
       "8   SaturdayNight   Low: 56 °F                             Partly Cloudy"
      ]
     },
     "execution_count": 204,
     "metadata": {},
     "output_type": "execute_result"
    }
   ],
   "source": [
    "forecas"
   ]
  },
  {
   "cell_type": "markdown",
   "metadata": {},
   "source": [
    "#  Write a python program to scrape house details from mentioned url. It should include house title, location, area, emi and price "
   ]
  },
  {
   "cell_type": "code",
   "execution_count": 64,
   "metadata": {},
   "outputs": [],
   "source": [
    "url31 = \"https://www.nobroker.in/property/sale/bangalore/Electronic%20City/?searchParam=W3sibGF0IjoxMi44MzU3MTAyMzE0MTQyLCJsb24iOjc3LjY3MzI3MDk3MzgyMTcsInBsYWNlSWQiOiJDaElKdy1GUWQ0cHNyanNSSGZkYXpnXzhYRW8iLCJwbGFjZU5hbWUiOiJFbGVjdHJvbmljIENpdHkiLCJzaG93TWFwIjpmYWxzZX1d&type=BHK4\"\n",
    "r = requests.get(url31)\n",
    "data = r.content\n",
    "soup = BeautifulSoup(data,'html.parser')\n",
    "#print(soup.prettify)\n"
   ]
  },
  {
   "cell_type": "code",
   "execution_count": 66,
   "metadata": {},
   "outputs": [
    {
     "name": "stdout",
     "output_type": "stream",
     "text": [
      "list of titles:\n",
      "\n",
      "3 BHK Apartment  For Sale  In Ds-max Starry In Electronic City \n",
      "\n",
      "2 BHK Apartment  For Sale  In Gm Infinite E-city Town In Electronic City \n",
      "\n",
      "3 BHK Flat  For Sale  In Greenfinch Vallerian In Electronic City \n",
      "\n",
      "2 BHK Apartment  For Sale  In Purnima Elite In Electronic City \n",
      "\n",
      "2 BHK Apartment  For Sale  In Sriven Luminous Amaltas In Electronic City \n",
      "\n",
      "2 BHK Apartment  For Sale  In Icon Happy Living In Electronic City \n",
      "\n",
      "3 BHK Apartment  For Sale  In Mahendra Aarna In Ananth Nagar Phase 2 \n",
      "\n",
      "3 BHK Flat  For Sale  In Smondo 2.0, Electronics City Phase 1 In Electronics City Phase 1 \n",
      "\n",
      "2 BHK Apartment  For Sale  In Ds Sigma Nest In Electronic City \n",
      "\n",
      "3 BHK Flat  For Sale  In Shobha Silicon Oasis In Basapura \n"
     ]
    }
   ],
   "source": [
    "house_title =[]\n",
    "for i in title10:\n",
    "    house_title.append(i.text.replace('\\n',''))\n",
    "print(\"list of titles:\",*house_title,sep=('\\n\\n')) \n"
   ]
  },
  {
   "cell_type": "code",
   "execution_count": 102,
   "metadata": {},
   "outputs": [
    {
     "data": {
      "text/plain": [
       "[<div class=\"nb__3oNyC\">1,200 sqft</div>,\n",
       " <div class=\"nb__3oNyC\">2,600 sqft</div>,\n",
       " <div class=\"nb__3oNyC\">1,100 sqft</div>,\n",
       " <div class=\"nb__3oNyC\">1,400 sqft</div>,\n",
       " <div class=\"nb__3oNyC\">2,500 sqft</div>,\n",
       " <div class=\"nb__3oNyC\">2,400 sqft</div>,\n",
       " <div class=\"nb__3oNyC\">2,650 sqft</div>,\n",
       " <div class=\"nb__3oNyC\">1,120 sqft</div>,\n",
       " <div class=\"nb__3oNyC\">2,350 sqft</div>,\n",
       " <div class=\"nb__3oNyC\">2,200 sqft</div>]"
      ]
     },
     "execution_count": 102,
     "metadata": {},
     "output_type": "execute_result"
    }
   ],
   "source": [
    "#Title\n",
    "title = soup.find_all('h2',class_='heading-6 font-semi-bold nb__1AShY')\n",
    "#Address\n",
    "address = soup.find_all('div',class_='nb__2CMjv')\n",
    "#Builtup area\n",
    "area = soup.find_all('div',class_='nb__3oNyC')\n",
    "area\n",
    "#EMI\n",
    "emi = soup.find('div',class_='font-semi-bold heading-6',id=\"roomType\").text.strip()\n",
    "print(emi)\n",
    "#House cost\n",
    "cost = soup.find('div',class_='font-semi-bold heading-6',id=False).text.strip()\n",
    "print(cost)\n",
    "\n",
    "                 "
   ]
  },
  {
   "cell_type": "code",
   "execution_count": 97,
   "metadata": {},
   "outputs": [
    {
     "name": "stdout",
     "output_type": "stream",
     "text": [
      "list of titles:\n",
      "\n",
      "4 BHK In Independent House  For Sale  In Naganathapura \n",
      "\n",
      "4 BHK For Sale  In Daadys Garden In Electronic City \n",
      "\n",
      "4 BHK In Independent House  For Sale  In Sarjapura \n",
      "\n",
      "4 BHK Flat  For Sale  In Electronic City \n",
      "\n",
      "4 BHK In Independent House  For Sale  In Electronic City,  \n",
      "\n",
      "4 BHK In Independent House  For Sale  In Electronic City \n",
      "\n",
      "4 BHK Apartment  For Sale  In Gopalan Gardenia In Electronic City \n",
      "\n",
      "4 BHK Flat  For Sale  In Electronic City \n",
      "\n",
      "4 BHK Flat  For Sale  In Heena Enclave In Electronic City \n",
      "\n",
      "4 BHK In Independent House  For Sale  In Ananth Nagar \n"
     ]
    }
   ],
   "source": [
    "house_title =[]\n",
    "for i in title:\n",
    "    house_title.append(i.text.replace('\\n',''))\n",
    "print(\"list of titles:\",*house_title,sep=('\\n\\n')) \n"
   ]
  },
  {
   "cell_type": "code",
   "execution_count": 101,
   "metadata": {},
   "outputs": [
    {
     "name": "stdout",
     "output_type": "stream",
     "text": [
      "list of address:\n",
      "\n",
      "Independent House, Doddanagamangala Rd opposite Sobha Silicon Oasis\n",
      "\n",
      "Daadys Garden  Kammasandra Rd, Kammasandra, Electronic City, Bengaluru, Karnataka 560100, India\n",
      "\n",
      "Independent House,  Shantipura Village , S.P Layout , near  Shantipura Panchayat Office\n",
      "\n",
      "Standalone Building, Shikaripalya, near Shams School\n",
      "\n",
      "Independent House,  Krishna reddy layout-Near Maruti Suzuki ARENA (Surakshaa Car Care, Bengaluru, Electronic City)\n",
      "\n",
      "Independent House, Dhruv Dhama LayoutNear Heddari Icon\n",
      "\n",
      "Gopalan Gardenia  Gopalan gardenia, Veerasandra Main Rd, Veer Sandra, Electronic City, Bengaluru, Karnataka 560100, India\n",
      "\n",
      "Standalone Building, Konappana Agrahara, Near Saffron Supermarket\n",
      "\n",
      " Neeladri Nagar,Near Pioneer Sun Blossom\n",
      "\n",
      "Independent House, Glass factory Outlet nd cross Near Grand Mart \n"
     ]
    }
   ],
   "source": [
    "house_address =[]\n",
    "for i in address:\n",
    "    house_address.append(i.text.replace('\\n',''))\n",
    "print(\"list of address:\",*house_address,sep=('\\n\\n')) \n"
   ]
  },
  {
   "cell_type": "code",
   "execution_count": 72,
   "metadata": {},
   "outputs": [
    {
     "name": "stdout",
     "output_type": "stream",
     "text": [
      "₹45,851/Month\n",
      "₹80 Lacs\n"
     ]
    }
   ],
   "source": [
    "emi = soup.find('div',class_='font-semi-bold heading-6',id=\"roomType\").text.strip()\n",
    "print(emi)\n",
    "cost = soup.find('div',class_='font-semi-bold heading-6',id=False).text.strip()\n",
    "print(cost)\n"
   ]
  },
  {
   "cell_type": "code",
   "execution_count": 103,
   "metadata": {},
   "outputs": [
    {
     "name": "stdout",
     "output_type": "stream",
     "text": [
      "list of area:\n",
      "\n",
      "1,200 sqft\n",
      "\n",
      "2,600 sqft\n",
      "\n",
      "1,100 sqft\n",
      "\n",
      "1,400 sqft\n",
      "\n",
      "2,500 sqft\n",
      "\n",
      "2,400 sqft\n",
      "\n",
      "2,650 sqft\n",
      "\n",
      "1,120 sqft\n",
      "\n",
      "2,350 sqft\n",
      "\n",
      "2,200 sqft\n"
     ]
    }
   ],
   "source": [
    "house_area =[]\n",
    "for i in area:\n",
    "    house_area.append(i.text.replace('\\n',''))\n",
    "print(\"list of area:\",*house_area,sep=('\\n\\n')) \n"
   ]
  },
  {
   "cell_type": "code",
   "execution_count": 323,
   "metadata": {},
   "outputs": [],
   "source": [
    "#overall information\n",
    "dad = soup.find_all('div',class_='nb__2JHKO')\n",
    "#dad"
   ]
  },
  {
   "cell_type": "code",
   "execution_count": 81,
   "metadata": {},
   "outputs": [
    {
     "name": "stdout",
     "output_type": "stream",
     "text": [
      "list of emi:\n",
      "\n",
      "₹45,851/Month\n",
      "\n",
      "₹85,971/Month\n",
      "\n",
      "₹40,120/Month\n",
      "\n",
      "₹20,060/Month\n",
      "\n",
      "₹1.43 Lacs/Month\n",
      "\n",
      "₹51,583/Month\n",
      "\n",
      "₹63,045/Month\n",
      "\n",
      "₹28,657/Month\n",
      "\n",
      "₹71,643/Month\n",
      "\n",
      "₹56,168/Month\n"
     ]
    }
   ],
   "source": [
    "house_emi =[]\n",
    "for i in dad:\n",
    "    s = house_emi.append(i.find('div',class_='font-semi-bold heading-6',id='roomType').text)\n",
    "   # v = s.text.strip()\n",
    "print(\"list of emi:\",*house_emi,sep=('\\n\\n'))\n"
   ]
  },
  {
   "cell_type": "code",
   "execution_count": 259,
   "metadata": {},
   "outputs": [
    {
     "name": "stdout",
     "output_type": "stream",
     "text": [
      "list of cost:\n",
      "\n",
      "₹80 Lacs\n",
      "\n",
      "₹1.5 Crores\n",
      "\n",
      "₹70 Lacs\n",
      "\n",
      "₹35 Lacs\n",
      "\n",
      "₹2.5 Crores\n",
      "\n",
      "₹90 Lacs\n",
      "\n",
      "₹1.1 Crores\n",
      "\n",
      "₹50 Lacs\n",
      "\n",
      "₹1.25 Crores\n",
      "\n",
      "₹98 Lacs\n"
     ]
    }
   ],
   "source": [
    "house_cost =[]\n",
    "for i in dad:\n",
    "    s = house_cost.append(i.find('div',class_='font-semi-bold heading-6',id=False).text)\n",
    "print(\"list of cost:\",*house_cost,sep=('\\n\\n'))\n"
   ]
  },
  {
   "cell_type": "code",
   "execution_count": null,
   "metadata": {},
   "outputs": [],
   "source": []
  },
  {
   "cell_type": "code",
   "execution_count": 104,
   "metadata": {},
   "outputs": [
    {
     "name": "stdout",
     "output_type": "stream",
     "text": [
      "10 10 10 10 10\n"
     ]
    }
   ],
   "source": [
    "print(len(house_title),len(house_address),len(house_area),len(house_cost),len(house_emi))"
   ]
  },
  {
   "cell_type": "code",
   "execution_count": 105,
   "metadata": {},
   "outputs": [],
   "source": [
    "houses= pd.DataFrame({})\n",
    "houses['housetitle']= house_title\n",
    "houses['houses address']= house_address\n",
    "houses['house_area']= house_area\n",
    "houses['house_emi']= house_emi\n",
    "houses['house_cost']= house_cost"
   ]
  },
  {
   "cell_type": "code",
   "execution_count": 106,
   "metadata": {},
   "outputs": [
    {
     "data": {
      "text/html": [
       "<div>\n",
       "<style scoped>\n",
       "    .dataframe tbody tr th:only-of-type {\n",
       "        vertical-align: middle;\n",
       "    }\n",
       "\n",
       "    .dataframe tbody tr th {\n",
       "        vertical-align: top;\n",
       "    }\n",
       "\n",
       "    .dataframe thead th {\n",
       "        text-align: right;\n",
       "    }\n",
       "</style>\n",
       "<table border=\"1\" class=\"dataframe\">\n",
       "  <thead>\n",
       "    <tr style=\"text-align: right;\">\n",
       "      <th></th>\n",
       "      <th>housetitle</th>\n",
       "      <th>houses address</th>\n",
       "      <th>house_area</th>\n",
       "      <th>house_emi</th>\n",
       "      <th>house_cost</th>\n",
       "    </tr>\n",
       "  </thead>\n",
       "  <tbody>\n",
       "    <tr>\n",
       "      <th>0</th>\n",
       "      <td>4 BHK In Independent House  For Sale  In Nagan...</td>\n",
       "      <td>Independent House, Doddanagamangala Rd opposit...</td>\n",
       "      <td>1,200 sqft</td>\n",
       "      <td>₹45,851/Month</td>\n",
       "      <td>₹80 Lacs</td>\n",
       "    </tr>\n",
       "    <tr>\n",
       "      <th>1</th>\n",
       "      <td>4 BHK For Sale  In Daadys Garden In Electronic...</td>\n",
       "      <td>Daadys Garden  Kammasandra Rd, Kammasandra, El...</td>\n",
       "      <td>2,600 sqft</td>\n",
       "      <td>₹85,971/Month</td>\n",
       "      <td>₹1.5 Crores</td>\n",
       "    </tr>\n",
       "    <tr>\n",
       "      <th>2</th>\n",
       "      <td>4 BHK In Independent House  For Sale  In Sarja...</td>\n",
       "      <td>Independent House,  Shantipura Village , S.P L...</td>\n",
       "      <td>1,100 sqft</td>\n",
       "      <td>₹40,120/Month</td>\n",
       "      <td>₹70 Lacs</td>\n",
       "    </tr>\n",
       "    <tr>\n",
       "      <th>3</th>\n",
       "      <td>4 BHK Flat  For Sale  In Electronic City</td>\n",
       "      <td>Standalone Building, Shikaripalya, near Shams ...</td>\n",
       "      <td>1,400 sqft</td>\n",
       "      <td>₹20,060/Month</td>\n",
       "      <td>₹35 Lacs</td>\n",
       "    </tr>\n",
       "    <tr>\n",
       "      <th>4</th>\n",
       "      <td>4 BHK In Independent House  For Sale  In Elect...</td>\n",
       "      <td>Independent House,  Krishna reddy layout-Near ...</td>\n",
       "      <td>2,500 sqft</td>\n",
       "      <td>₹1.43 Lacs/Month</td>\n",
       "      <td>₹2.5 Crores</td>\n",
       "    </tr>\n",
       "    <tr>\n",
       "      <th>5</th>\n",
       "      <td>4 BHK In Independent House  For Sale  In Elect...</td>\n",
       "      <td>Independent House, Dhruv Dhama LayoutNear Hedd...</td>\n",
       "      <td>2,400 sqft</td>\n",
       "      <td>₹51,583/Month</td>\n",
       "      <td>₹90 Lacs</td>\n",
       "    </tr>\n",
       "    <tr>\n",
       "      <th>6</th>\n",
       "      <td>4 BHK Apartment  For Sale  In Gopalan Gardenia...</td>\n",
       "      <td>Gopalan Gardenia  Gopalan gardenia, Veerasandr...</td>\n",
       "      <td>2,650 sqft</td>\n",
       "      <td>₹63,045/Month</td>\n",
       "      <td>₹1.1 Crores</td>\n",
       "    </tr>\n",
       "    <tr>\n",
       "      <th>7</th>\n",
       "      <td>4 BHK Flat  For Sale  In Electronic City</td>\n",
       "      <td>Standalone Building, Konappana Agrahara, Near ...</td>\n",
       "      <td>1,120 sqft</td>\n",
       "      <td>₹28,657/Month</td>\n",
       "      <td>₹50 Lacs</td>\n",
       "    </tr>\n",
       "    <tr>\n",
       "      <th>8</th>\n",
       "      <td>4 BHK Flat  For Sale  In Heena Enclave In Elec...</td>\n",
       "      <td>Neeladri Nagar,Near Pioneer Sun Blossom</td>\n",
       "      <td>2,350 sqft</td>\n",
       "      <td>₹71,643/Month</td>\n",
       "      <td>₹1.25 Crores</td>\n",
       "    </tr>\n",
       "    <tr>\n",
       "      <th>9</th>\n",
       "      <td>4 BHK In Independent House  For Sale  In Anant...</td>\n",
       "      <td>Independent House, Glass factory Outlet nd cro...</td>\n",
       "      <td>2,200 sqft</td>\n",
       "      <td>₹56,168/Month</td>\n",
       "      <td>₹98 Lacs</td>\n",
       "    </tr>\n",
       "  </tbody>\n",
       "</table>\n",
       "</div>"
      ],
      "text/plain": [
       "                                          housetitle  \\\n",
       "0  4 BHK In Independent House  For Sale  In Nagan...   \n",
       "1  4 BHK For Sale  In Daadys Garden In Electronic...   \n",
       "2  4 BHK In Independent House  For Sale  In Sarja...   \n",
       "3          4 BHK Flat  For Sale  In Electronic City    \n",
       "4  4 BHK In Independent House  For Sale  In Elect...   \n",
       "5  4 BHK In Independent House  For Sale  In Elect...   \n",
       "6  4 BHK Apartment  For Sale  In Gopalan Gardenia...   \n",
       "7          4 BHK Flat  For Sale  In Electronic City    \n",
       "8  4 BHK Flat  For Sale  In Heena Enclave In Elec...   \n",
       "9  4 BHK In Independent House  For Sale  In Anant...   \n",
       "\n",
       "                                      houses address  house_area  \\\n",
       "0  Independent House, Doddanagamangala Rd opposit...  1,200 sqft   \n",
       "1  Daadys Garden  Kammasandra Rd, Kammasandra, El...  2,600 sqft   \n",
       "2  Independent House,  Shantipura Village , S.P L...  1,100 sqft   \n",
       "3  Standalone Building, Shikaripalya, near Shams ...  1,400 sqft   \n",
       "4  Independent House,  Krishna reddy layout-Near ...  2,500 sqft   \n",
       "5  Independent House, Dhruv Dhama LayoutNear Hedd...  2,400 sqft   \n",
       "6  Gopalan Gardenia  Gopalan gardenia, Veerasandr...  2,650 sqft   \n",
       "7  Standalone Building, Konappana Agrahara, Near ...  1,120 sqft   \n",
       "8            Neeladri Nagar,Near Pioneer Sun Blossom  2,350 sqft   \n",
       "9  Independent House, Glass factory Outlet nd cro...  2,200 sqft   \n",
       "\n",
       "          house_emi    house_cost  \n",
       "0     ₹45,851/Month      ₹80 Lacs  \n",
       "1     ₹85,971/Month   ₹1.5 Crores  \n",
       "2     ₹40,120/Month      ₹70 Lacs  \n",
       "3     ₹20,060/Month      ₹35 Lacs  \n",
       "4  ₹1.43 Lacs/Month   ₹2.5 Crores  \n",
       "5     ₹51,583/Month      ₹90 Lacs  \n",
       "6     ₹63,045/Month   ₹1.1 Crores  \n",
       "7     ₹28,657/Month      ₹50 Lacs  \n",
       "8     ₹71,643/Month  ₹1.25 Crores  \n",
       "9     ₹56,168/Month      ₹98 Lacs  "
      ]
     },
     "execution_count": 106,
     "metadata": {},
     "output_type": "execute_result"
    }
   ],
   "source": [
    "houses"
   ]
  },
  {
   "cell_type": "code",
   "execution_count": null,
   "metadata": {},
   "outputs": [],
   "source": []
  },
  {
   "cell_type": "code",
   "execution_count": null,
   "metadata": {},
   "outputs": [],
   "source": []
  },
  {
   "cell_type": "code",
   "execution_count": null,
   "metadata": {},
   "outputs": [],
   "source": []
  },
  {
   "cell_type": "code",
   "execution_count": null,
   "metadata": {},
   "outputs": [],
   "source": []
  },
  {
   "cell_type": "code",
   "execution_count": null,
   "metadata": {},
   "outputs": [],
   "source": []
  }
 ],
 "metadata": {
  "kernelspec": {
   "display_name": "Python 3",
   "language": "python",
   "name": "python3"
  },
  "language_info": {
   "codemirror_mode": {
    "name": "ipython",
    "version": 3
   },
   "file_extension": ".py",
   "mimetype": "text/x-python",
   "name": "python",
   "nbconvert_exporter": "python",
   "pygments_lexer": "ipython3",
   "version": "3.8.5"
  }
 },
 "nbformat": 4,
 "nbformat_minor": 4
}
